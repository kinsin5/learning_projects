{
 "cells": [
  {
   "cell_type": "markdown",
   "metadata": {},
   "source": [
    "https://www.practicepython.org/exercise/2014/03/12/06-string-lists.html\n",
    "6. Ask the user for a string and print out whether this string is a palindrome or not. (A palindrome is a string that reads the same forwards and backwards.)"
   ]
  },
  {
   "cell_type": "code",
   "execution_count": null,
   "metadata": {},
   "outputs": [],
   "source": [
    "word = input(\"give me word: \")\n",
    "is_palindrom = True\n",
    "for i in range(int(len(word)/2)):\n",
    "    if word[i] != word[-(i+1)]:\n",
    "        is_palindrom = False\n",
    "        break\n",
    "print(\"Your word:\" , word, end= \" \")\n",
    "if is_palindrom: print(\"is a palindrome\")\n",
    "else: print(\"is not a palindrome\")\n"
   ]
  },
  {
   "cell_type": "markdown",
   "metadata": {},
   "source": [
    "https://www.practicepython.org/exercise/2014/03/19/07-list-comprehensions.html\n",
    "Exercise 7 (and Solution)\n",
    "Let’s say I give you a list saved in a variable: a = [1, 4, 9, 16, 25, 36, 49, 64, 81, 100]. Write one line of Python that takes this list a and makes a new list that has only the even elements of this list in it."
   ]
  },
  {
   "cell_type": "code",
   "execution_count": null,
   "metadata": {},
   "outputs": [],
   "source": [
    "a = [1, 4, 9, 16, 25, 36, 49, 64, 81, 100]\n",
    "new_list = [x for x in a if x % 2 == 0]\n",
    "print(new_list)"
   ]
  },
  {
   "cell_type": "markdown",
   "metadata": {},
   "source": [
    "Make a two-player Rock-Paper-Scissors game. (Hint: Ask for player plays (using input), compare them, print out a message of congratulations to the winner, and ask if the players want to start a new game)\n",
    "\n",
    "Remember the rules:\n",
    "\n",
    "Rock beats scissors\n",
    "Scissors beats paper\n",
    "Paper beats rock"
   ]
  },
  {
   "cell_type": "code",
   "execution_count": null,
   "metadata": {},
   "outputs": [],
   "source": [
    "opt = \"y\"\n",
    "count = 0\n",
    "while(opt == \"y\"):\n",
    "    p1 = input(\"Player 1 give me your play: r/p/s\")\n",
    "    p2 = input(\"Player 2 give me your play: r/p/s\")\n",
    "    count += 1\n",
    "    print(\"Game \", count, end= \": \" )\n",
    "    if p1 == \"r\":\n",
    "        if p2 == \"r\":\n",
    "            print(\"Tie\")\n",
    "        elif p2 == \"p\":\n",
    "            print(\"Player 2 won\")\n",
    "        else:\n",
    "            print(\"Player 1 won\")\n",
    "    elif p1 == \"p\":\n",
    "        if  p2 == \"r\":\n",
    "            print(\"Player 1 won\")\n",
    "        elif p2 == \"p\":\n",
    "            print(\"Tie\")\n",
    "        else:\n",
    "            print(\"Player 2 won\")\n",
    "    elif p1 == \"s\":\n",
    "        if  p2 == \"r\":\n",
    "            print(\"Player 2 won\")\n",
    "        elif p2 == \"p\":\n",
    "            print(\"Player 1 won\")\n",
    "        else:\n",
    "            print(\"Tie\")\n",
    "    opt = input(\"Do you want to continue [y] - yes, [anything else] - no\")\n",
    "\n",
    "\n",
    "\n",
    "    \n"
   ]
  },
  {
   "cell_type": "markdown",
   "metadata": {},
   "source": [
    "Exercise 9 (and Solution)\n",
    "Generate a random number between 1 and 9 (including 1 and 9). Ask the user to guess the number, then tell them whether they guessed too low, too high, or exactly right. (Hint: remember to use the user input lessons from the very first exercise)\n",
    "\n",
    "Extras:\n",
    "\n",
    "Keep the game going until the user types “exit”\n",
    "Keep track of how many guesses the user has taken, and when the game ends, print this out."
   ]
  },
  {
   "cell_type": "code",
   "execution_count": 15,
   "metadata": {},
   "outputs": [
    {
     "name": "stdout",
     "output_type": "stream",
     "text": [
      "1\n"
     ]
    }
   ],
   "source": [
    "import random as r\n",
    "while(True):\n",
    "    rd_num = r.randint(1,9)\n",
    "    guess = (int)(input(\"Guess a number: \")\n",
    "    print(rd_num)\n",
    "    "
   ]
  }
 ],
 "metadata": {
  "kernelspec": {
   "display_name": "Python 3",
   "language": "python",
   "name": "python3"
  },
  "language_info": {
   "codemirror_mode": {
    "name": "ipython",
    "version": 3
   },
   "file_extension": ".py",
   "mimetype": "text/x-python",
   "name": "python",
   "nbconvert_exporter": "python",
   "pygments_lexer": "ipython3",
   "version": "3.10.6"
  }
 },
 "nbformat": 4,
 "nbformat_minor": 2
}
