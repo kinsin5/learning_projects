{
 "cells": [
  {
   "cell_type": "code",
   "execution_count": null,
   "metadata": {},
   "outputs": [],
   "source": []
  },
  {
   "cell_type": "markdown",
   "metadata": {},
   "source": [
    "#### Exercise 31 (and Solution) Guess Letters  [Link](https://www.practicepython.org/exercise/2017/01/02/31-guess-letters.html)\n",
    "\n",
    "This exercise is Part 2 of 3 of the Hangman exercise series. The other exercises are: Part 1 and Part 3.\n",
    "\n",
    "Let’s continue building Hangman. In the game of Hangman, a clue word is given by the program that the player has to guess, letter by letter. The player guesses one letter at a time until the entire word has been guessed. (In the actual game, the player can only guess 6 letters incorrectly before losing).\n",
    "\n",
    "Let’s say the word the player has to guess is “EVAPORATE”. For this exercise, write the logic that asks a player to guess a letter and displays letters in the clue word that were guessed correctly. For now, let the player guess an infinite number of times until they get the entire word. As a bonus, keep track of the letters the player guessed and display a different message if the player tries to guess that letter again. Remember to stop the game when all the letters have been guessed correctly! "
   ]
  },
  {
   "cell_type": "code",
   "execution_count": 65,
   "metadata": {},
   "outputs": [
    {
     "name": "stdout",
     "output_type": "stream",
     "text": [
      "['_', 'G', 'G', '_', '_', '_', '_', '_', '_']\n"
     ]
    }
   ],
   "source": [
    "word = \"EVAPORATE\"\n",
    "\n",
    "def underscores(word):\n",
    "    underscores = []\n",
    "    for x in range(len(word)):\n",
    "        underscores.append(\"_\")\n",
    "    return underscores\n",
    "\n",
    "def find_all(word_checked, substr):\n",
    "    indexes = []\n",
    "    for x in range(len(word_checked)):\n",
    "        if substr == word_checked[x]:\n",
    "            indexes.append(x)\n",
    "    return indexes\n",
    "##repair word_maker - I think it's ok \n",
    "def word_maker(indexes, guess):\n",
    "    n_word = underscores(word)\n",
    "    for x in indexes:\n",
    "        n_word[x] = guess\n",
    "    return n_word\n",
    "\n",
    "def game_body(word):\n",
    "    guesses = []\n",
    "    print(\"Welcome to hangman game!\\n\")\n",
    "    while(True):\n",
    "        guess = input(\"Give me letter: \")\n",
    "        guesses.append(guess)\n",
    "        if guess in guesses:\n",
    "            print(\"You already guessed this letter!\")\n",
    "            continue\n",
    "        elif guess in word:\n",
    "            find_all(word, guess)\n",
    "        else:\n",
    "            print(f\"No letter {guess} in this word\")\n",
    "\n",
    "print(word_maker([1, 2], 'G'))\n",
    "\n",
    "def print_board(word):\n",
    "    print(word)\n",
    "### Now impletement those functions inside game_body and modify print_board to print with spaces beetwen list elements"
   ]
  },
  {
   "cell_type": "markdown",
   "metadata": {},
   "source": [
    "#### Pick Word Exercise 30 (and Solution) [Link](https://www.practicepython.org/exercise/2016/09/24/30-pick-word.html#google_vignette)\n",
    "\n",
    "This exercise is Part 1 of 3 of the Hangman exercise series. The other exercises are: Part 2 and Part 3.\n",
    "\n",
    "In this exercise, the task is to write a function that picks a random word from a list of words from the SOWPODS dictionary. Download this file and save it in the same directory as your Python code. This file is Peter Norvig’s compilation of the dictionary of words used in professional Scrabble tournaments. Each line in the file contains a single word.\n",
    "\n",
    "Hint: use the Python random library for picking a random word."
   ]
  },
  {
   "cell_type": "code",
   "execution_count": 49,
   "metadata": {},
   "outputs": [
    {
     "data": {
      "text/plain": [
       "'ANNULMENT'"
      ]
     },
     "execution_count": 49,
     "metadata": {},
     "output_type": "execute_result"
    }
   ],
   "source": [
    "def word_picker():\n",
    "    with open(\"sowpods.txt\", 'r') as open_file:\n",
    "        sowpods = open_file.readlines()\n",
    "    sowpods = [x.strip() for x in sowpods]\n",
    "    sowpods\n",
    "    import random as rd\n",
    "    return sowpods[rd.randrange(len(sowpods))]\n",
    "\n",
    "word_picker()"
   ]
  },
  {
   "cell_type": "markdown",
   "metadata": {},
   "source": [
    "#### Tic Tac Toe Game [Link](https://www.practicepython.org/exercise/2016/08/03/29-tic-tac-toe-game.html)\n",
    "Exercise 29 (and Solution)\n",
    "This exercise is Part 4 of 4 of the Tic Tac Toe exercise series. The other exercises are: Part 1, Part 2, and Part 3.\n",
    "\n",
    "In 3 previous exercises, we built up a few components needed to build a Tic Tac Toe game in Python:\n",
    "\n",
    "Draw the Tic Tac Toe game board\n",
    "Checking whether a game board has a winner\n",
    "Handle a player move from user input\n",
    "The next step is to put all these three components together to make a two-player Tic Tac Toe game! Your challenge in this exercise is to use the functions from those previous exercises all together in the same program to make a two-player game that you can play with a friend. There are a lot of choices you will have to make when completing this exercise, so you can go as far or as little as you want with it.\n",
    "\n",
    "Here are a few things to keep in mind:\n",
    "\n",
    "You should keep track of who won - if there is a winner, show a congratulatory message on the screen.\n",
    "If there are no more moves left, don’t ask for the next player’s move!\n",
    "As a bonus, you can ask the players if they want to play again and keep a running tally of who won more - Player 1 or Player 2."
   ]
  },
  {
   "cell_type": "code",
   "execution_count": null,
   "metadata": {},
   "outputs": [],
   "source": [
    "\n",
    "###drawing board\n",
    "def verts():\n",
    "    for x in range(3):\n",
    "        print(\" \",end=\"\")\n",
    "        for y in range(3):\n",
    "            print(\"-\",end=\"\")\n",
    "    print(\"\")\n",
    "def horiz(arra):\n",
    "    str = \"\"\n",
    "    for x in range(3):\n",
    "        str = str + \"|\"\n",
    "        str = str + f\" {arra[x]} \"\n",
    "    str = str + \"|\"\n",
    "    print(str)\n",
    "\n",
    "def draw(game):\n",
    "    for x in game:\n",
    "        verts()\n",
    "        horiz(x)\n",
    "    verts()"
   ]
  },
  {
   "cell_type": "code",
   "execution_count": null,
   "metadata": {},
   "outputs": [],
   "source": [
    "\n",
    "def set_game(cords, play_s):\n",
    "    row = (int)(cords[0]) - 1\n",
    "    col = (int)(cords[1]) - 1\n",
    "    print(row, col)\n",
    "    if play_s == 'p1':\n",
    "        game[row][col] = \"X\"\n",
    "    elif play_s == 'p2':\n",
    "        game[row][col] = \"O\"\n",
    "\n",
    "def inserting_titles():\n",
    "    counter = 0\n",
    "    moves = []\n",
    "    while (counter < 9):\n",
    "        if counter % 2 == 0:\n",
    "            player1 = input(\"P1 - Give your move[row,col]: \")\n",
    "            if player1 in moves:\n",
    "                print(\"It's taken!\")\n",
    "                continue\n",
    "            moves.append(player1)\n",
    "            player1 = player1.split(\",\")\n",
    "            counter = counter + 1\n",
    "            set_game(player1, 'p1')\n",
    "            draw(game)\n",
    "        if counter != 9 and counter % 2 == 1:\n",
    "            player2 = input(\"P2 - Give your move[row,col]: \")\n",
    "            if player2 in moves:\n",
    "                print(\"It's taken!\")\n",
    "                continue\n",
    "            moves.append(player2)\n",
    "            player2 = player2.split(\",\")\n",
    "            counter = counter + 1\n",
    "            set_game(player2, 'p2')\n",
    "            draw(game)       "
   ]
  },
  {
   "cell_type": "code",
   "execution_count": 31,
   "metadata": {},
   "outputs": [
    {
     "name": "stdout",
     "output_type": "stream",
     "text": [
      "Game has been won by player 2\n"
     ]
    }
   ],
   "source": [
    "\n",
    "def check_row(game):\n",
    "    won = 'n'\n",
    "    for x in game:\n",
    "        first_digit = x[0]\n",
    "        counter = 0\n",
    "        for y in x:\n",
    "            if y == first_digit:\n",
    "                first_digit = y\n",
    "                counter = counter + 1\n",
    "            else:\n",
    "                break\n",
    "        if counter == 3:\n",
    "            print(f\"Game has been won by player {x[0]}\")\n",
    "            won = 'y'\n",
    "            break\n",
    "    return won\n",
    "\n",
    "def check_horz(game):\n",
    "    won = 'n'\n",
    "    for x in range(3):\n",
    "        first_digit = game[0][x]\n",
    "        counter = 0\n",
    "        for y in range(3):\n",
    "            if game[y][x] == first_digit:\n",
    "                first_digit = game[y][x]\n",
    "                counter = counter + 1\n",
    "            else:\n",
    "                break\n",
    "        if counter == 3:\n",
    "            print(f\"Game has been won by player {game[0][x]}\")\n",
    "            won = 'y'\n",
    "            break\n",
    "    return won\n",
    "\n",
    "def check_diagonal(game):\n",
    "    p_check = game[1][1]\n",
    "    if game[0][0] == p_check and game[2][2] == p_check:\n",
    "        print(f\"Game has been won by player {p_check}\")\n",
    "    elif game[0][2] == p_check and game[2][0] == p_check:\n",
    "        print(f\"Game has been won by player {p_check}\")\n",
    "    else:\n",
    "        print(\"Nobody won\")\n",
    "\n",
    "def who_won(game):\n",
    "    if check_row(game) == 'n':\n",
    "        if check_horz(game) == \"n\":\n",
    "            check_diagonal(game)\n",
    "        "
   ]
  },
  {
   "cell_type": "code",
   "execution_count": 36,
   "metadata": {},
   "outputs": [
    {
     "name": "stdout",
     "output_type": "stream",
     "text": [
      "0 0\n",
      " --- --- ---\n",
      "| X | 0 | 0 |\n",
      " --- --- ---\n",
      "| 0 | 0 | 0 |\n",
      " --- --- ---\n",
      "| 0 | 0 | 0 |\n",
      " --- --- ---\n",
      "0 1\n",
      " --- --- ---\n",
      "| X | O | 0 |\n",
      " --- --- ---\n",
      "| 0 | 0 | 0 |\n",
      " --- --- ---\n",
      "| 0 | 0 | 0 |\n",
      " --- --- ---\n",
      "1 1\n",
      " --- --- ---\n",
      "| X | O | 0 |\n",
      " --- --- ---\n",
      "| 0 | X | 0 |\n",
      " --- --- ---\n",
      "| 0 | 0 | 0 |\n",
      " --- --- ---\n",
      "0 2\n",
      " --- --- ---\n",
      "| X | O | O |\n",
      " --- --- ---\n",
      "| 0 | X | 0 |\n",
      " --- --- ---\n",
      "| 0 | 0 | 0 |\n",
      " --- --- ---\n",
      "2 2\n",
      " --- --- ---\n",
      "| X | O | O |\n",
      " --- --- ---\n",
      "| 0 | X | 0 |\n",
      " --- --- ---\n",
      "| 0 | 0 | X |\n",
      " --- --- ---\n",
      "It's taken!\n",
      "1 2\n",
      " --- --- ---\n",
      "| X | O | O |\n",
      " --- --- ---\n",
      "| 0 | X | O |\n",
      " --- --- ---\n",
      "| 0 | 0 | X |\n",
      " --- --- ---\n",
      "2 1\n",
      " --- --- ---\n",
      "| X | O | O |\n",
      " --- --- ---\n",
      "| 0 | X | O |\n",
      " --- --- ---\n",
      "| 0 | X | X |\n",
      " --- --- ---\n",
      "1 0\n",
      " --- --- ---\n",
      "| X | O | O |\n",
      " --- --- ---\n",
      "| O | X | O |\n",
      " --- --- ---\n",
      "| 0 | X | X |\n",
      " --- --- ---\n",
      "2 0\n",
      " --- --- ---\n",
      "| X | O | O |\n",
      " --- --- ---\n",
      "| O | X | O |\n",
      " --- --- ---\n",
      "| X | X | X |\n",
      " --- --- ---\n",
      "Game has been won by player X\n"
     ]
    }
   ],
   "source": [
    "game = [[0, 0, 0],[0, 0, 0],[0, 0, 0]]\n",
    "def tic_tac_toe():\n",
    "    inserting_titles()\n",
    "    who_won(game)\n",
    "tic_tac_toe()"
   ]
  },
  {
   "cell_type": "markdown",
   "metadata": {},
   "source": [
    "### Max Of Three \n",
    "Exercise 28 (and Solution)\n",
    "Implement a function that takes as input three variables, and returns the largest of the three. Do this without using the Python max() function!\n",
    "\n",
    "The goal of this exercise is to think about some internals that Python normally takes care of for us. All you need is some variables and if statements!"
   ]
  },
  {
   "cell_type": "code",
   "execution_count": 22,
   "metadata": {},
   "outputs": [],
   "source": [
    "def max_of_three(var1, var2, var3):\n",
    "    if var1 > var2:\n",
    "        if var1 > var3:\n",
    "            return var1\n",
    "        else:\n",
    "            return var3\n",
    "    elif var2 > var3:\n",
    "        return var2\n",
    "    else:\n",
    "        return var3\n"
   ]
  },
  {
   "cell_type": "code",
   "execution_count": 25,
   "metadata": {},
   "outputs": [
    {
     "data": {
      "text/plain": [
       "5"
      ]
     },
     "execution_count": 25,
     "metadata": {},
     "output_type": "execute_result"
    }
   ],
   "source": [
    "max_of_three(4,5,3)"
   ]
  },
  {
   "cell_type": "markdown",
   "metadata": {},
   "source": [
    "#### Tic Tac Toe Draw  [Link](https://www.practicepython.org/exercise/2015/11/26/27-tic-tac-toe-draw.html)\n",
    "Exercise 27 \n",
    "In a previous exercise we explored the idea of using a list of lists as a “data structure” to store information about a tic tac toe game. In a tic tac toe game, the “game server” needs to know where the Xs and Os are in the board, to know whether player 1 or player 2 (or whoever is X and O won).\n",
    "\n",
    "There has also been an exercise about drawing the actual tic tac toe gameboard using text characters.\n",
    "\n",
    "The next logical step is to deal with handling user input. When a player (say player 1, who is X) wants to place an X on the screen, they can’t just click on a terminal. So we are going to approximate this clicking simply by asking the user for a coordinate of where they want to place their piece.\n",
    "\n",
    "As a reminder, our tic tac toe game is really a list of lists. The game starts out with an empty game board like this:\n",
    "```py\n",
    "game = [[0, 0, 0],\n",
    "\t[0, 0, 0],\n",
    "\t[0, 0, 0]]\n",
    "\n",
    "```\n",
    "The computer asks Player 1 (X) what their move is (in the format row,col), and say they type 1,3. Then the game would print out\n",
    "```py\n",
    "game = [[0, 0, X],\n",
    "\t[0, 0, 0],\n",
    "\t[0, 0, 0]]\n",
    "```\n",
    "And ask Player 2 for their move, printing an O in that place."
   ]
  },
  {
   "cell_type": "code",
   "execution_count": null,
   "metadata": {},
   "outputs": [
    {
     "name": "stdout",
     "output_type": "stream",
     "text": [
      " --- --- ---\n",
      "| 0 | 0 | 0 |\n",
      " --- --- ---\n",
      "| 0 | 0 | 0 |\n",
      " --- --- ---\n",
      "| 0 | 0 | 0 |\n",
      " --- --- ---\n"
     ]
    }
   ],
   "source": [
    "\n",
    "\n",
    "game = [[0, 0, 0],[0, 0, 0],[0, 0, 0]]\n",
    "###drawing board\n",
    "def verts():\n",
    "    for x in range(3):\n",
    "        print(\" \",end=\"\")\n",
    "        for y in range(3):\n",
    "            print(\"-\",end=\"\")\n",
    "    print(\"\")\n",
    "def horiz(arra):\n",
    "    str = \"\"\n",
    "    for x in range(3):\n",
    "        str = str + \"|\"\n",
    "        str = str + f\" {arra[x]} \"\n",
    "    str = str + \"|\"\n",
    "    print(str)\n",
    "\n",
    "def draw(game):\n",
    "    for x in game:\n",
    "        verts()\n",
    "        horiz(x)\n",
    "    verts()\n"
   ]
  },
  {
   "cell_type": "code",
   "execution_count": null,
   "metadata": {},
   "outputs": [],
   "source": [
    "###inserting symbols for players\n",
    "game = [[0, 0, 0],[0, 0, 0],[0, 0, 0]]\n",
    "def set_game(cords, play_s):\n",
    "    row = (int)(cords[0]) - 1\n",
    "    col = (int)(cords[1]) - 1\n",
    "    print(row, col)\n",
    "    if play_s == 'p1':\n",
    "        game[row][col] = \"X\"\n",
    "    elif play_s == 'p2':\n",
    "        game[row][col] = \"O\"\n",
    "\n",
    "\n",
    "\n",
    "def inserting_titles():\n",
    "    counter = 0\n",
    "    moves = []\n",
    "    while (counter < 9):\n",
    "        if counter % 2 == 0:\n",
    "            player1 = input(\"P1 - Give your move[row,col]: \")\n",
    "            if player1 in moves:\n",
    "                print(\"It's taken!\")\n",
    "                continue\n",
    "            moves.append(player1)\n",
    "            player1 = player1.split(\",\")\n",
    "            counter = counter + 1\n",
    "            set_game(player1, 'p1')\n",
    "            draw(game)\n",
    "        if counter != 9 and counter % 2 == 1:\n",
    "            player2 = input(\"P2 - Give your move[row,col]: \")\n",
    "            if player2 in moves:\n",
    "                print(\"It's taken!\")\n",
    "                continue\n",
    "            moves.append(player2)\n",
    "            player2 = player2.split(\",\")\n",
    "            counter = counter + 1\n",
    "            set_game(player2, 'p2')\n",
    "            draw(game)\n",
    "        \n",
    "inserting_titles()\n"
   ]
  },
  {
   "cell_type": "markdown",
   "metadata": {},
   "source": [
    "### Check Tic Tac Toe  [Link](https://www.practicepython.org/exercise/2015/11/16/26-check-tic-tac-toe.html)\n",
    "Exercise 26 (and Solution)\n",
    "This exercise is Part 2 of 4 of the Tic Tac Toe exercise series. The other exercises are: Part 1, Part 3, and Part 4.\n",
    "\n",
    "As you may have guessed, we are trying to build up to a full tic-tac-toe board. However, this is significantly more than half an hour of coding, so we’re doing it in pieces.\n",
    "\n",
    "Today, we will simply focus on checking whether someone has WON a game of Tic Tac Toe, not worrying about how the moves were made.\n",
    "\n",
    "If a game of Tic Tac Toe is represented as a list of lists, like so:\n",
    "```\n",
    "game = [[1, 2, 0],\n",
    "\t[2, 1, 0],\n",
    "\t[2, 1, 1]]\n",
    "```\n",
    "where a 0 means an empty square, a 1 means that player 1 put their token in that space, and a 2 means that player 2 put their token in that space."
   ]
  },
  {
   "cell_type": "code",
   "execution_count": 39,
   "metadata": {},
   "outputs": [],
   "source": [
    "game1 = [[1, 2, 2], [1, 1, 2], [1, 1, 2]]\n",
    "def check_row():\n",
    "    won = 'n'\n",
    "    for x in game1:\n",
    "        first_digit = x[0]\n",
    "        counter = 0\n",
    "        for y in x:\n",
    "            if y == first_digit:\n",
    "                first_digit = y\n",
    "                counter = counter + 1\n",
    "            else:\n",
    "                break\n",
    "        if counter == 3:\n",
    "            print(f\"Game has been won by player {x[0]}\")\n",
    "            won = 'y'\n",
    "            break\n",
    "    return won\n",
    "def check_diagonal():\n",
    "    p_check = game1[1][1]\n",
    "    if game1[0][0] == p_check and game1[2][2] == p_check:\n",
    "        print(f\"Game has been won by player {p_check}\")\n",
    "    elif game1[0][2] == p_check and game1[2][0] == p_check:\n",
    "        print(f\"Game has been won by player {p_check}\")\n",
    "    else:\n",
    "        print(\"Nobody won\")\n",
    "\n",
    "def who_won():\n",
    "    if check_row() == 'n':\n",
    "        check_diagonal()"
   ]
  },
  {
   "cell_type": "code",
   "execution_count": 40,
   "metadata": {},
   "outputs": [
    {
     "name": "stdout",
     "output_type": "stream",
     "text": [
      "None won\n"
     ]
    }
   ],
   "source": [
    "who_won()"
   ]
  },
  {
   "cell_type": "markdown",
   "metadata": {},
   "source": [
    "#### Guessing Game Two   [Link](https://www.practicepython.org/exercise/2015/11/01/25-guessing-game-two.html)\n",
    "Exercise 25 (and Solution)\n",
    "In a previous exercise, we’ve written a program that “knows” a number and asks a user to guess it.\n",
    "\n",
    "This time, we’re going to do exactly the opposite. You, the user, will have in your head a number between 0 and 100. The program will guess a number, and you, the user, will say whether it is too high, too low, or your number.\n",
    "\n",
    "At the end of this exchange, your program should print out how many guesses it took to get your number.\n",
    "\n",
    "As the writer of this program, you will have to choose how your program will strategically guess. A naive strategy can be to simply start the guessing at 1, and keep going (2, 3, 4, etc.) until you hit the number. But that’s not an optimal guessing strategy. An alternate strategy might be to guess 50 (right in the middle of the range), and then increase / decrease by 1 as needed. After you’ve written the program, try to find the optimal strategy! (We’ll talk about what is the optimal one next week with the solution.)"
   ]
  },
  {
   "cell_type": "code",
   "execution_count": 19,
   "metadata": {},
   "outputs": [],
   "source": [
    "g_arra = []\n",
    "for x in range(1,100):\n",
    "    g_arra.append(x)"
   ]
  },
  {
   "cell_type": "code",
   "execution_count": 31,
   "metadata": {},
   "outputs": [
    {
     "name": "stdout",
     "output_type": "stream",
     "text": [
      "I got answer in 6 guesses\n"
     ]
    }
   ],
   "source": [
    "import math\n",
    "min = 0\n",
    "max = len(g_arra) - 1\n",
    "bina = [49, min, max]\n",
    "user_guess = (int)(input(\"What is your guess?: \"))\n",
    "\n",
    "def start():\n",
    "    guesses = 0\n",
    "    while(True):\n",
    "        guesses = guesses + 1\n",
    "        guess = g_arra[bina[0]]\n",
    "        ans = input(f\"Is my guess: {guess} correct[c], higher[h] or lower[l]?\")\n",
    "        if ans == 'c':\n",
    "            print(f\"I got answer in {guesses} guesses\")\n",
    "            break\n",
    "        else:\n",
    "            guessin(ans, bina)\n",
    "\n",
    "def guessin(ans, bina):\n",
    "    match ans:\n",
    "        case 'h':\n",
    "            min = bina[0] + 1\n",
    "            bina[1] = min\n",
    "            bina[0] = math.ceil((min + bina[2]) / 2)\n",
    "        case 'l':\n",
    "            max = bina[0] - 1\n",
    "            bina[2] = max\n",
    "            bina[0] = math.ceil((bina[1] + max) / 2)\n",
    "\n",
    "start()"
   ]
  },
  {
   "cell_type": "markdown",
   "metadata": {},
   "source": [
    "#### Draw A Game Board  [Link](https://www.practicepython.org/exercise/2014/12/27/24-draw-a-game-board.html#google_vignette)\n",
    "Exercise 24 (and Solution)\n",
    "This exercise is Part 1 of 4 of the Tic Tac Toe exercise series. The other exercises are: Part 2, Part 3, and Part 4.\n",
    "\n",
    "Time for some fake graphics! Let’s say we want to draw game boards that look like this:\n",
    "```\n",
    " --- --- --- \n",
    "|   |   |   | \n",
    " --- --- ---  \n",
    "|   |   |   | \n",
    " --- --- ---  \n",
    "|   |   |   | \n",
    " --- --- --- \n",
    " ```\n",
    "\n",
    " Ask the user what size game board they want to draw, and draw it for them to the screen using Python’s print statement."
   ]
  },
  {
   "cell_type": "code",
   "execution_count": 8,
   "metadata": {},
   "outputs": [],
   "source": [
    "def ask():\n",
    "    dim = (int)(input(\"What dimension of your board you wanna?: \"))\n",
    "    return dim\n",
    "def draw_upe(dim):\n",
    "    line = \"\"\n",
    "    for x in range(dim):\n",
    "        line +=  \" \"\n",
    "        for y in range(3):\n",
    "            line += \"-\"\n",
    "    print(line + \" \")\n",
    "def draw_ho(dim):\n",
    "    horz = \"\"\n",
    "    for x in range(dim + 1):\n",
    "        horz += \"|\"\n",
    "        for y in range(3):\n",
    "            horz += \" \"\n",
    "    print(horz)\n",
    "\n",
    "def draw_whole(dim):\n",
    "    for x in range(dim):\n",
    "        draw_upe(dim)\n",
    "        draw_ho(dim)\n",
    "    draw_upe(dim)"
   ]
  },
  {
   "cell_type": "code",
   "execution_count": 11,
   "metadata": {},
   "outputs": [
    {
     "name": "stdout",
     "output_type": "stream",
     "text": [
      " --- --- --- --- --- \n",
      "|   |   |   |   |   |   \n",
      " --- --- --- --- --- \n",
      "|   |   |   |   |   |   \n",
      " --- --- --- --- --- \n",
      "|   |   |   |   |   |   \n",
      " --- --- --- --- --- \n",
      "|   |   |   |   |   |   \n",
      " --- --- --- --- --- \n",
      "|   |   |   |   |   |   \n",
      " --- --- --- --- --- \n"
     ]
    }
   ],
   "source": [
    "draw_whole(ask())"
   ]
  },
  {
   "cell_type": "markdown",
   "metadata": {},
   "source": [
    "#### Exercise 23 (and Solution) [Link](https://www.practicepython.org/exercise/2014/12/14/23-file-overlap.html)\n",
    "Given two .txt files that have lists of numbers in them, find the numbers that are overlapping. One .txt file has a list of all prime numbers under 1000, and the other .txt file has a list of happy numbers up to 1000.\n",
    "\n",
    "(If you forgot, prime numbers are numbers that can’t be divided by any other number. And yes, happy numbers are a real thing in mathematics - you can look it up on Wikipedia. The explanation is easier with an example, which I will describe below.)"
   ]
  },
  {
   "cell_type": "code",
   "execution_count": 4,
   "metadata": {},
   "outputs": [],
   "source": [
    "#reading numbers in two lists\n",
    "with open('primes.txt', 'r') as open_file:\n",
    "    lines = open_file.readlines()\n",
    "primes = [(int)(x.strip()) for x in lines]\n",
    "\n",
    "with open('happy.txt', 'r') as open_file:\n",
    "    lines = open_file.readlines()\n",
    "happy = [(int)(x.strip()) for x in lines]"
   ]
  },
  {
   "cell_type": "code",
   "execution_count": 5,
   "metadata": {},
   "outputs": [
    {
     "data": {
      "text/html": [
       "<div>\n",
       "<style scoped>\n",
       "    .dataframe tbody tr th:only-of-type {\n",
       "        vertical-align: middle;\n",
       "    }\n",
       "\n",
       "    .dataframe tbody tr th {\n",
       "        vertical-align: top;\n",
       "    }\n",
       "\n",
       "    .dataframe thead th {\n",
       "        text-align: right;\n",
       "    }\n",
       "</style>\n",
       "<table border=\"1\" class=\"dataframe\">\n",
       "  <thead>\n",
       "    <tr style=\"text-align: right;\">\n",
       "      <th></th>\n",
       "      <th>Numbers</th>\n",
       "    </tr>\n",
       "  </thead>\n",
       "  <tbody>\n",
       "    <tr>\n",
       "      <th>0</th>\n",
       "      <td>7</td>\n",
       "    </tr>\n",
       "    <tr>\n",
       "      <th>1</th>\n",
       "      <td>13</td>\n",
       "    </tr>\n",
       "    <tr>\n",
       "      <th>2</th>\n",
       "      <td>19</td>\n",
       "    </tr>\n",
       "    <tr>\n",
       "      <th>3</th>\n",
       "      <td>23</td>\n",
       "    </tr>\n",
       "    <tr>\n",
       "      <th>4</th>\n",
       "      <td>31</td>\n",
       "    </tr>\n",
       "    <tr>\n",
       "      <th>5</th>\n",
       "      <td>79</td>\n",
       "    </tr>\n",
       "    <tr>\n",
       "      <th>6</th>\n",
       "      <td>97</td>\n",
       "    </tr>\n",
       "    <tr>\n",
       "      <th>7</th>\n",
       "      <td>103</td>\n",
       "    </tr>\n",
       "    <tr>\n",
       "      <th>8</th>\n",
       "      <td>109</td>\n",
       "    </tr>\n",
       "    <tr>\n",
       "      <th>9</th>\n",
       "      <td>139</td>\n",
       "    </tr>\n",
       "    <tr>\n",
       "      <th>10</th>\n",
       "      <td>167</td>\n",
       "    </tr>\n",
       "    <tr>\n",
       "      <th>11</th>\n",
       "      <td>193</td>\n",
       "    </tr>\n",
       "    <tr>\n",
       "      <th>12</th>\n",
       "      <td>239</td>\n",
       "    </tr>\n",
       "    <tr>\n",
       "      <th>13</th>\n",
       "      <td>263</td>\n",
       "    </tr>\n",
       "    <tr>\n",
       "      <th>14</th>\n",
       "      <td>293</td>\n",
       "    </tr>\n",
       "    <tr>\n",
       "      <th>15</th>\n",
       "      <td>313</td>\n",
       "    </tr>\n",
       "    <tr>\n",
       "      <th>16</th>\n",
       "      <td>331</td>\n",
       "    </tr>\n",
       "    <tr>\n",
       "      <th>17</th>\n",
       "      <td>367</td>\n",
       "    </tr>\n",
       "    <tr>\n",
       "      <th>18</th>\n",
       "      <td>379</td>\n",
       "    </tr>\n",
       "    <tr>\n",
       "      <th>19</th>\n",
       "      <td>383</td>\n",
       "    </tr>\n",
       "    <tr>\n",
       "      <th>20</th>\n",
       "      <td>397</td>\n",
       "    </tr>\n",
       "    <tr>\n",
       "      <th>21</th>\n",
       "      <td>409</td>\n",
       "    </tr>\n",
       "    <tr>\n",
       "      <th>22</th>\n",
       "      <td>487</td>\n",
       "    </tr>\n",
       "    <tr>\n",
       "      <th>23</th>\n",
       "      <td>563</td>\n",
       "    </tr>\n",
       "    <tr>\n",
       "      <th>24</th>\n",
       "      <td>617</td>\n",
       "    </tr>\n",
       "    <tr>\n",
       "      <th>25</th>\n",
       "      <td>653</td>\n",
       "    </tr>\n",
       "    <tr>\n",
       "      <th>26</th>\n",
       "      <td>673</td>\n",
       "    </tr>\n",
       "    <tr>\n",
       "      <th>27</th>\n",
       "      <td>683</td>\n",
       "    </tr>\n",
       "    <tr>\n",
       "      <th>28</th>\n",
       "      <td>709</td>\n",
       "    </tr>\n",
       "    <tr>\n",
       "      <th>29</th>\n",
       "      <td>739</td>\n",
       "    </tr>\n",
       "    <tr>\n",
       "      <th>30</th>\n",
       "      <td>761</td>\n",
       "    </tr>\n",
       "    <tr>\n",
       "      <th>31</th>\n",
       "      <td>863</td>\n",
       "    </tr>\n",
       "    <tr>\n",
       "      <th>32</th>\n",
       "      <td>881</td>\n",
       "    </tr>\n",
       "    <tr>\n",
       "      <th>33</th>\n",
       "      <td>907</td>\n",
       "    </tr>\n",
       "    <tr>\n",
       "      <th>34</th>\n",
       "      <td>937</td>\n",
       "    </tr>\n",
       "  </tbody>\n",
       "</table>\n",
       "</div>"
      ],
      "text/plain": [
       "    Numbers\n",
       "0         7\n",
       "1        13\n",
       "2        19\n",
       "3        23\n",
       "4        31\n",
       "5        79\n",
       "6        97\n",
       "7       103\n",
       "8       109\n",
       "9       139\n",
       "10      167\n",
       "11      193\n",
       "12      239\n",
       "13      263\n",
       "14      293\n",
       "15      313\n",
       "16      331\n",
       "17      367\n",
       "18      379\n",
       "19      383\n",
       "20      397\n",
       "21      409\n",
       "22      487\n",
       "23      563\n",
       "24      617\n",
       "25      653\n",
       "26      673\n",
       "27      683\n",
       "28      709\n",
       "29      739\n",
       "30      761\n",
       "31      863\n",
       "32      881\n",
       "33      907\n",
       "34      937"
      ]
     },
     "execution_count": 5,
     "metadata": {},
     "output_type": "execute_result"
    }
   ],
   "source": [
    "#using pandas\n",
    "import pandas as pd\n",
    "hdf = pd.DataFrame(happy, columns=['Numbers'])\n",
    "pdf = pd.DataFrame(primes, columns=['Numbers'])\n",
    "\n",
    "hdf.merge(pdf, how='inner', on='Numbers')"
   ]
  },
  {
   "cell_type": "code",
   "execution_count": 6,
   "metadata": {},
   "outputs": [
    {
     "data": {
      "text/plain": [
       "[7,\n",
       " 263,\n",
       " 139,\n",
       " 907,\n",
       " 13,\n",
       " 653,\n",
       " 397,\n",
       " 19,\n",
       " 23,\n",
       " 409,\n",
       " 31,\n",
       " 673,\n",
       " 293,\n",
       " 167,\n",
       " 937,\n",
       " 683,\n",
       " 563,\n",
       " 313,\n",
       " 193,\n",
       " 709,\n",
       " 331,\n",
       " 79,\n",
       " 863,\n",
       " 97,\n",
       " 739,\n",
       " 103,\n",
       " 487,\n",
       " 617,\n",
       " 109,\n",
       " 239,\n",
       " 367,\n",
       " 881,\n",
       " 761,\n",
       " 379,\n",
       " 383]"
      ]
     },
     "execution_count": 6,
     "metadata": {},
     "output_type": "execute_result"
    }
   ],
   "source": [
    "#using sets\n",
    "pset = set(primes)\n",
    "hset = set(happy)\n",
    "\n",
    "list(pset & hset)\n"
   ]
  },
  {
   "cell_type": "markdown",
   "metadata": {},
   "source": [
    "#### Read From File [link](https://www.practicepython.org/exercise/2014/12/06/22-read-from-file.html)\n",
    "Exercise 22 (and Solution)\n",
    "Given a .txt file that has a list of a bunch of names, count how many of each name there are in the file, and print out the results to the screen. I have a .txt file for you, if you want to use it!\n",
    "\n",
    "Extra:\n",
    "\n",
    "Instead of using the .txt file from above (or instead of, if you want the challenge), take this .txt file, and count how many of each “category” of each image there are. This text file is actually a list of files corresponding to the SUN database scene recognition database, and lists the file directory hierarchy for the images. Once you take a look at the first line or two of the file, it will be clear which part represents the scene category. To do this, you’re going to have to remember a bit about string parsing in Python 3. I talked a little bit about it in this post."
   ]
  },
  {
   "cell_type": "code",
   "execution_count": 7,
   "metadata": {},
   "outputs": [
    {
     "data": {
      "text/plain": [
       "['abbey', 'abbey', 'abbey', 'abbey', 'abbey']"
      ]
     },
     "execution_count": 7,
     "metadata": {},
     "output_type": "execute_result"
    }
   ],
   "source": [
    "with open('category.txt', 'r') as open_file:\n",
    "    lines = open_file.readlines()\n",
    "clean_lines = [x.strip() for x in lines]\n",
    "cat_list = [x[3:x.find('/',3)] for x in clean_lines]\n",
    "cat_list[:5]"
   ]
  },
  {
   "cell_type": "code",
   "execution_count": 8,
   "metadata": {},
   "outputs": [
    {
     "data": {
      "text/plain": [
       "abbey                50\n",
       "airplane_cabin       50\n",
       "airport_terminal     50\n",
       "alley                50\n",
       "amphitheater         50\n",
       "                   ... \n",
       "windmill             50\n",
       "wine_cellar         100\n",
       "wrestling_ring       50\n",
       "yard                 50\n",
       "youth_hostel         50\n",
       "Length: 362, dtype: int64"
      ]
     },
     "execution_count": 8,
     "metadata": {},
     "output_type": "execute_result"
    }
   ],
   "source": [
    "import pandas as pd\n",
    "ser = pd.Series(cat_list)\n",
    "grouped = ser.groupby(ser)\n",
    "grouped.count()"
   ]
  },
  {
   "cell_type": "code",
   "execution_count": 9,
   "metadata": {},
   "outputs": [],
   "source": [
    "####simple name count of group by\n",
    "my_list = []\n",
    "with open('names.txt', 'r') as open_file:\n",
    "    names = open_file.readline()\n",
    "    while names:\n",
    "        my_list.append(names)\n",
    "        names = open_file.readline()"
   ]
  },
  {
   "cell_type": "code",
   "execution_count": 10,
   "metadata": {},
   "outputs": [
    {
     "data": {
      "text/plain": [
       "['Darth',\n",
       " 'Luke',\n",
       " 'Darth',\n",
       " 'Lea',\n",
       " 'Darth',\n",
       " 'Lea',\n",
       " 'Lea',\n",
       " 'Luke',\n",
       " 'Darth',\n",
       " 'Lea',\n",
       " 'Darth',\n",
       " 'Darth',\n",
       " 'Lea',\n",
       " 'Lea',\n",
       " 'Darth',\n",
       " 'Lea',\n",
       " 'Darth',\n",
       " 'Lea',\n",
       " 'Luke',\n",
       " 'Darth',\n",
       " 'Lea',\n",
       " 'Lea',\n",
       " 'Darth',\n",
       " 'Lea',\n",
       " 'Darth',\n",
       " 'Darth',\n",
       " 'Lea',\n",
       " 'Lea',\n",
       " 'Luke',\n",
       " 'Luke',\n",
       " 'Lea',\n",
       " 'Darth',\n",
       " 'Darth',\n",
       " 'Luke',\n",
       " 'Lea',\n",
       " 'Darth',\n",
       " 'Darth',\n",
       " 'Lea',\n",
       " 'Lea',\n",
       " 'Lea',\n",
       " 'Lea',\n",
       " 'Lea',\n",
       " 'Luke',\n",
       " 'Darth',\n",
       " 'Luke',\n",
       " 'Lea',\n",
       " 'Lea',\n",
       " 'Lea',\n",
       " 'Lea',\n",
       " 'Luke',\n",
       " 'Lea',\n",
       " 'Darth',\n",
       " 'Lea',\n",
       " 'Lea',\n",
       " 'Darth',\n",
       " 'Lea',\n",
       " 'Lea',\n",
       " 'Darth',\n",
       " 'Darth',\n",
       " 'Lea',\n",
       " 'Darth',\n",
       " 'Lea',\n",
       " 'Darth',\n",
       " 'Luke',\n",
       " 'Lea',\n",
       " 'Luke',\n",
       " 'Darth',\n",
       " 'Darth',\n",
       " 'Luke',\n",
       " 'Darth',\n",
       " 'Lea',\n",
       " 'Darth',\n",
       " 'Lea',\n",
       " 'Luke',\n",
       " 'Lea',\n",
       " 'Lea',\n",
       " 'Lea',\n",
       " 'Lea',\n",
       " 'Lea',\n",
       " 'Darth',\n",
       " 'Lea',\n",
       " 'Lea',\n",
       " 'Lea',\n",
       " 'Lea',\n",
       " 'Lea',\n",
       " 'Lea',\n",
       " 'Lea',\n",
       " 'Luke',\n",
       " 'Lea',\n",
       " 'Lea',\n",
       " 'Lea',\n",
       " 'Lea',\n",
       " 'Lea',\n",
       " 'Lea',\n",
       " 'Darth',\n",
       " 'Luke',\n",
       " 'Darth',\n",
       " 'Lea',\n",
       " 'Lea',\n",
       " 'Darth']"
      ]
     },
     "execution_count": 10,
     "metadata": {},
     "output_type": "execute_result"
    }
   ],
   "source": [
    "clean_list = []\n",
    "for x in my_list:\n",
    "    clean_list.append(x.strip())\n",
    "clean_list"
   ]
  },
  {
   "cell_type": "code",
   "execution_count": 11,
   "metadata": {},
   "outputs": [
    {
     "data": {
      "text/plain": [
       "Darth    31\n",
       "Lea      54\n",
       "Luke     15\n",
       "dtype: int64"
      ]
     },
     "execution_count": 11,
     "metadata": {},
     "output_type": "execute_result"
    }
   ],
   "source": [
    "import pandas as pd\n",
    "nameseries = pd.Series(clean_list)\n",
    "uniques = nameseries.unique()\n",
    "grouped = nameseries.groupby(nameseries)\n",
    "grouped.count()"
   ]
  },
  {
   "cell_type": "code",
   "execution_count": null,
   "metadata": {},
   "outputs": [],
   "source": []
  },
  {
   "cell_type": "markdown",
   "metadata": {},
   "source": [
    "### Decode A Web Page Two   [Link](https://www.practicepython.org/exercise/2014/07/14/19-decode-a-web-page-two.html)\n",
    "Exercise 19 (and Solution)\n",
    "Using the requests and BeautifulSoup Python libraries, print to the screen the full text of the article on this website: http://www.vanityfair.com/society/2014/06/monica-lewinsky-humiliation-culture.\n",
    "\n",
    "The article is long, so it is split up between 4 pages. Your task is to print out the text to the screen so that you can read the full article without having to click any buttons."
   ]
  },
  {
   "cell_type": "code",
   "execution_count": 12,
   "metadata": {},
   "outputs": [],
   "source": [
    "text_str = \"\"\n",
    "import requests\n",
    "from bs4 import BeautifulSoup\n",
    "url = \"https://www.vanityfair.com/style/society/2014/06/monica-lewinsky-humiliation-culture\"\n",
    "r_html = requests.get(url).text\n",
    "soup = BeautifulSoup(r_html)\n",
    "sup_titaut = soup.find_all('h1')\n",
    "title_author_desc = [x.text for x in sup_titaut]\n",
    "# That's title + author\n",
    "author_description = soup.find('div', class_=\"ContentHeaderDek-bIqFFZ dsDgjR\").text\n",
    "title_author_desc.append(author_description)\n",
    "# + description"
   ]
  },
  {
   "cell_type": "code",
   "execution_count": 13,
   "metadata": {},
   "outputs": [],
   "source": [
    "paragraphs = soup.find_all('p')\n",
    "para_list = [x.text for x in paragraphs]\n",
    "for x in range(4): #cleaning last text eg. 'Contact', 'More from vanity fair' etc.\n",
    "    para_list.pop()\n",
    "article = \"\"\n",
    "for x in para_list:\n",
    "    article += x\n",
    "str = article[:12]"
   ]
  },
  {
   "cell_type": "markdown",
   "metadata": {},
   "source": []
  },
  {
   "cell_type": "code",
   "execution_count": 14,
   "metadata": {},
   "outputs": [],
   "source": [
    "with open('article.txt', 'w') as open_file:\n",
    "    open_file.write(str)"
   ]
  },
  {
   "cell_type": "markdown",
   "metadata": {},
   "source": [
    "### Cows And Bulls   [Link](https://www.practicepython.org/exercise/2014/07/05/18-cows-and-bulls.html)\n",
    "Exercise 18 (and Solution)\n",
    "Create a program that will play the “cows and bulls” game with the user. The game works like this:\n",
    "\n",
    "Randomly generate a 4-digit number. Ask the user to guess a 4-digit number. For every digit that the user guessed correctly in the correct place, they have a “cow”. For every digit the user guessed correctly in the wrong place is a “bull.” Every time the user makes a guess, tell them how many “cows” and “bulls” they have. Once the user guesses the correct number, the game is over. Keep track of the number of guesses the user makes throughout the game and tell the user at the end.\n",
    "\n",
    "Say the number generated by the computer is 1038. An example interaction could look like this:\n",
    "\n",
    "  Welcome to the Cows and Bulls Game! \n",
    "\n",
    "  ```sql\n",
    "  Enter a number: \n",
    "  >>> 1234\n",
    "  2 cows, 0 bulls\n",
    "  >>> 1256\n",
    "  1 cow, 1 bull\n",
    "  ...\n",
    "  ```"
   ]
  },
  {
   "cell_type": "code",
   "execution_count": 15,
   "metadata": {},
   "outputs": [],
   "source": [
    "\n",
    "#NOTE you need to also count all the occurencies of numbers, where there is duplicate in guess and you only take first index of occurence.\n",
    "\n",
    "\n",
    "import random as rd\n",
    "\n",
    "def gen_rd():\n",
    "    return rd.randint(1000,9999)\n",
    "\n",
    "def game():\n",
    "    guess_counter = 0\n",
    "    print(\"Welcome to the Cows and Bulls Game!\\n Enter a number:\\n\")\n",
    "    number = (str)(gen_rd())\n",
    "    print(number)\n",
    "    while(True):\n",
    "        us_guess = input(\">>> \")\n",
    "        guess_counter += 1\n",
    "        cows = 0\n",
    "        bull = 0\n",
    "        bull_list = []\n",
    "        if us_guess == number:\n",
    "            break\n",
    "        else:\n",
    "            for x in range(len(number)):\n",
    "                if us_guess[x] == number[x]:\n",
    "                    cows += 1\n",
    "                elif us_guess[x] in number:\n",
    "                    bull_list.append(number.find(us_guess[x]))\n",
    "            bull += len(set(bull_list))\n",
    "        print(us_guess) \n",
    "        semantics(cows, bull)\n",
    "    print(f\"You guessed in {guess_counter} tries!\")\n",
    "\n",
    "def semantics(cows, bull):\n",
    "    strings = [\"cows\", \"cow\", \"bull\", \"bulls\"]\n",
    "    if cows == 1:\n",
    "        if bull == 1:\n",
    "            print(f\"{cows} {strings[1]}, {bull} {strings[2]}\")\n",
    "        else:\n",
    "            print(f\"{cows} {strings[1]}, {bull} {strings[3]}\")\n",
    "    else:\n",
    "        if bull == 1:\n",
    "            print(f\"{cows} {strings[0]}, {bull} {strings[2]}\")\n",
    "        else:\n",
    "            print(f\"{cows} {strings[0]}, {bull} {strings[3]}\")\n"
   ]
  },
  {
   "cell_type": "code",
   "execution_count": 16,
   "metadata": {},
   "outputs": [
    {
     "name": "stdout",
     "output_type": "stream",
     "text": [
      "1\n"
     ]
    }
   ],
   "source": [
    "###it's checker for loop and bull adder\n",
    "\n",
    "us_guess = \"4477\"\n",
    "number = \"1244\"\n",
    "bull_list = []\n",
    "us_num_li = [x for x in us_guess]\n",
    "us_guess_li = [x for x in number]\n",
    "\n",
    "for x in range(len(number)):\n",
    "    if us_guess[x] in number:\n",
    "        bull_list.append(number.find(us_guess[x], ))\n",
    "bull_count = len(set(bull_list))\n",
    "print(bull_count)"
   ]
  },
  {
   "cell_type": "code",
   "execution_count": 17,
   "metadata": {},
   "outputs": [
    {
     "name": "stdout",
     "output_type": "stream",
     "text": [
      "Welcome to the Cows and Bulls Game!\n",
      " Enter a number:\n",
      "\n"
     ]
    },
    {
     "ename": "TypeError",
     "evalue": "'str' object is not callable",
     "output_type": "error",
     "traceback": [
      "\u001b[1;31m---------------------------------------------------------------------------\u001b[0m",
      "\u001b[1;31mTypeError\u001b[0m                                 Traceback (most recent call last)",
      "Cell \u001b[1;32mIn[17], line 1\u001b[0m\n\u001b[1;32m----> 1\u001b[0m \u001b[43mgame\u001b[49m\u001b[43m(\u001b[49m\u001b[43m)\u001b[49m\n",
      "Cell \u001b[1;32mIn[15], line 12\u001b[0m, in \u001b[0;36mgame\u001b[1;34m()\u001b[0m\n\u001b[0;32m     10\u001b[0m guess_counter \u001b[38;5;241m=\u001b[39m \u001b[38;5;241m0\u001b[39m\n\u001b[0;32m     11\u001b[0m \u001b[38;5;28mprint\u001b[39m(\u001b[38;5;124m\"\u001b[39m\u001b[38;5;124mWelcome to the Cows and Bulls Game!\u001b[39m\u001b[38;5;130;01m\\n\u001b[39;00m\u001b[38;5;124m Enter a number:\u001b[39m\u001b[38;5;130;01m\\n\u001b[39;00m\u001b[38;5;124m\"\u001b[39m)\n\u001b[1;32m---> 12\u001b[0m number \u001b[38;5;241m=\u001b[39m \u001b[43m(\u001b[49m\u001b[38;5;28;43mstr\u001b[39;49m\u001b[43m)\u001b[49m\u001b[43m(\u001b[49m\u001b[43mgen_rd\u001b[49m\u001b[43m(\u001b[49m\u001b[43m)\u001b[49m\u001b[43m)\u001b[49m\n\u001b[0;32m     13\u001b[0m \u001b[38;5;28mprint\u001b[39m(number)\n\u001b[0;32m     14\u001b[0m \u001b[38;5;28;01mwhile\u001b[39;00m(\u001b[38;5;28;01mTrue\u001b[39;00m):\n",
      "\u001b[1;31mTypeError\u001b[0m: 'str' object is not callable"
     ]
    }
   ],
   "source": [
    "game()"
   ]
  },
  {
   "cell_type": "markdown",
   "metadata": {},
   "source": [
    "\n",
    "### Exercise 20 (and Solution) Element Search [link](https://www.practicepython.org/exercise/2014/11/11/20-element-search.html#google_vignette)\n",
    "Write a function that takes an ordered list of numbers (a list where the elements are in order from smallest to largest) and another number. The function decides whether or not the given number is inside the list and returns (then prints) an appropriate boolean.\n",
    "\n",
    "Extras:\n",
    "\n",
    "Use binary search."
   ]
  },
  {
   "cell_type": "code",
   "execution_count": null,
   "metadata": {},
   "outputs": [],
   "source": [
    "import random as rd\n",
    "\n",
    "def rand_list():\n",
    "    list = []\n",
    "    for x in range(9):\n",
    "        list.append(rd.randint(1, 100))\n",
    "    list.sort()\n",
    "    return list\n",
    "\n",
    "def search(ord_li, num):\n",
    "    print(ord_li)\n",
    "    if num in ord_li:\n",
    "        print(True)\n",
    "    else:\n",
    "        print(False)\n",
    "\n",
    "\n"
   ]
  },
  {
   "cell_type": "code",
   "execution_count": null,
   "metadata": {},
   "outputs": [],
   "source": [
    "import math as mt\n",
    "def binary_search(ord_li, num):\n",
    "    max = len(ord_li) - 1\n",
    "    min = 0\n",
    "    mid = mt.ceil(((min + max)/2))\n",
    "    while(True):\n",
    "        print(f\"max: {max}, min: {min}, mid: {mid}\")\n",
    "        if num == ord_li[mid]:\n",
    "            print(True)\n",
    "            print(f\"index: {mid}\")\n",
    "            break\n",
    "        elif (max == mid and min == mid):\n",
    "            print(\"There is no value in list\")\n",
    "            break\n",
    "        elif num > ord_li[mid]:\n",
    "            min = mid + 1\n",
    "        else:\n",
    "            max = mid - 1\n",
    "        mid = mt.ceil(((min + max)/2))\n",
    "    \n",
    "#binary_search(rand_list(), 10)\n",
    "binary_search([x for x in range(0,100)], 9)"
   ]
  },
  {
   "cell_type": "code",
   "execution_count": null,
   "metadata": {},
   "outputs": [],
   "source": [
    "search(rand_list(), 10)"
   ]
  },
  {
   "cell_type": "markdown",
   "metadata": {},
   "source": [
    "### Exercise 16 (and Solution) [link](https://www.practicepython.org/exercise/2014/05/28/16-password-generator.html)\n",
    "Note: this is a 4-chili exercise, not because it introduces a concept, but because this exercise is more like a project. Feel free to skip this and come back when you’re more ready!\n",
    "\n",
    "Write a password generator in Python. Be creative with how you generate passwords - strong passwords have a mix of lowercase letters, uppercase letters, numbers, and symbols. The passwords should be random, generating a new password every time the user asks for a new password. Include your run-time code in a main method.\n",
    "\n",
    "Extra:\n",
    "\n",
    "Ask the user how strong they want their password to be. For weak passwords, pick a word or two from a list"
   ]
  },
  {
   "cell_type": "code",
   "execution_count": null,
   "metadata": {},
   "outputs": [],
   "source": [
    "###random generators\n",
    "import random as rd\n",
    "def ra_num():\n",
    "    return (str)(rd.randint(0,9))\n",
    "def ra_letter():\n",
    "    return chr(rd.randint(97,123))\n",
    "def ra_symbol():\n",
    "    return chr(rd.randint(33,48))"
   ]
  },
  {
   "cell_type": "code",
   "execution_count": null,
   "metadata": {},
   "outputs": [],
   "source": [
    "##switching between random uper char, chars, nums and symbols\n",
    "def bucket_mix(r_num):\n",
    "    match r_num:\n",
    "        case 1:\n",
    "            return ra_letter().upper()\n",
    "        case 2:\n",
    "            return ra_letter()\n",
    "        case 3:\n",
    "            return ra_num()\n",
    "        case 4:\n",
    "            return ra_symbol()"
   ]
  },
  {
   "cell_type": "code",
   "execution_count": null,
   "metadata": {},
   "outputs": [],
   "source": [
    "\n",
    "def pass_creator(len_pass=rd.randint(10,20)):\n",
    "    passwd = \"\"\n",
    "    for x in range(len_pass):\n",
    "        passwd += bucket_mix(rd.randint(1,4))\n",
    "    return passwd"
   ]
  },
  {
   "cell_type": "code",
   "execution_count": null,
   "metadata": {},
   "outputs": [],
   "source": [
    "import time\n",
    "start = time.time()\n",
    "print(pass_creator())\n",
    "end = time.time()\n",
    "print(end - start)"
   ]
  },
  {
   "cell_type": "markdown",
   "metadata": {},
   "source": [
    "Decode A Web Page    \n",
    "### Exercise 17 (and Solution) [Link](https://www.practicepython.org/exercise/2014/06/06/17-decode-a-web-page.html)\n",
    "Note: this is a 4-chili exercise, not because it introduces a concept (although it introduces a new library), but because this exercise is more like a project. Feel free to skip this and come back when you’re more ready!\n",
    "\n",
    "Use the BeautifulSoup and requests Python packages to print out a list of all the article titles on the New York Times homepage. [NY Times](https://www.nytimes.com)"
   ]
  },
  {
   "cell_type": "code",
   "execution_count": null,
   "metadata": {},
   "outputs": [],
   "source": [
    "import requests\n",
    "from bs4 import BeautifulSoup\n",
    "url = \"https://www.nytimes.com\"\n",
    "r = requests.get(url)\n",
    "r_html = r.text\n",
    "r_html"
   ]
  },
  {
   "cell_type": "code",
   "execution_count": 12,
   "metadata": {},
   "outputs": [],
   "source": [
    "soup = BeautifulSoup(r_html)\n",
    "text = soup.find_all('p', class_=\"indicate-hover\")"
   ]
  },
  {
   "cell_type": "code",
   "execution_count": 13,
   "metadata": {},
   "outputs": [],
   "source": [
    "text = [x.text for x in text]\n",
    "import pandas as pd\n",
    "nyc = pd.DataFrame(text, columns=['Title'])"
   ]
  },
  {
   "cell_type": "code",
   "execution_count": null,
   "metadata": {},
   "outputs": [],
   "source": [
    "nyc[nyc['Title'].str.contains(\"Trump\")]"
   ]
  },
  {
   "cell_type": "markdown",
   "metadata": {},
   "source": [
    "https://www.practicepython.org/exercise/2014/03/12/06-string-lists.html\n",
    "6. Ask the user for a string and print out whether this string is a palindrome or not. (A palindrome is a string that reads the same forwards and backwards.)"
   ]
  },
  {
   "cell_type": "code",
   "execution_count": null,
   "metadata": {},
   "outputs": [],
   "source": [
    "word = input(\"give me word: \")\n",
    "is_palindrom = True\n",
    "for i in range(int(len(word)/2)):\n",
    "    if word[i] != word[-(i+1)]:\n",
    "        is_palindrom = False\n",
    "        break\n",
    "print(\"Your word:\" , word, end= \" \")\n",
    "if is_palindrom: print(\"is a palindrome\")\n",
    "else: print(\"is not a palindrome\")\n"
   ]
  },
  {
   "cell_type": "markdown",
   "metadata": {},
   "source": [
    "https://www.practicepython.org/exercise/2014/03/19/07-list-comprehensions.html\n",
    "Exercise 7 (and Solution)\n",
    "Let’s say I give you a list saved in a variable: a = [1, 4, 9, 16, 25, 36, 49, 64, 81, 100]. Write one line of Python that takes this list a and makes a new list that has only the even elements of this list in it."
   ]
  },
  {
   "cell_type": "code",
   "execution_count": null,
   "metadata": {},
   "outputs": [],
   "source": [
    "a = [1, 4, 9, 16, 25, 36, 49, 64, 81, 100]\n",
    "new_list = [x for x in a if x % 2 == 0]\n",
    "print(new_list)"
   ]
  },
  {
   "cell_type": "markdown",
   "metadata": {},
   "source": [
    "Make a two-player Rock-Paper-Scissors game. (Hint: Ask for player plays (using input), compare them, print out a message of congratulations to the winner, and ask if the players want to start a new game)\n",
    "\n",
    "Remember the rules:\n",
    "\n",
    "Rock beats scissors\n",
    "Scissors beats paper\n",
    "Paper beats rock"
   ]
  },
  {
   "cell_type": "code",
   "execution_count": null,
   "metadata": {},
   "outputs": [],
   "source": [
    "opt = \"y\"\n",
    "count = 0\n",
    "while(opt == \"y\"):\n",
    "    p1 = input(\"Player 1 give me your play: r/p/s\")\n",
    "    p2 = input(\"Player 2 give me your play: r/p/s\")\n",
    "    count += 1\n",
    "    print(\"Game \", count, end= \": \" )\n",
    "    if p1 == \"r\":\n",
    "        if p2 == \"r\":\n",
    "            print(\"Tie\")\n",
    "        elif p2 == \"p\":\n",
    "            print(\"Player 2 won\")\n",
    "        else:\n",
    "            print(\"Player 1 won\")\n",
    "    elif p1 == \"p\":\n",
    "        if  p2 == \"r\":\n",
    "            print(\"Player 1 won\")\n",
    "        elif p2 == \"p\":\n",
    "            print(\"Tie\")\n",
    "        else:\n",
    "            print(\"Player 2 won\")\n",
    "    elif p1 == \"s\":\n",
    "        if  p2 == \"r\":\n",
    "            print(\"Player 2 won\")\n",
    "        elif p2 == \"p\":\n",
    "            print(\"Player 1 won\")\n",
    "        else:\n",
    "            print(\"Tie\")\n",
    "    opt = input(\"Do you want to continue [y] - yes, [anything else] - no\")\n",
    "\n",
    "\n",
    "\n",
    "    \n"
   ]
  },
  {
   "cell_type": "markdown",
   "metadata": {},
   "source": [
    "Exercise 9 (and Solution)\n",
    "Generate a random number between 1 and 9 (including 1 and 9). Ask the user to guess the number, then tell them whether they guessed too low, too high, or exactly right. (Hint: remember to use the user input lessons from the very first exercise)\n",
    "\n",
    "Extras:\n",
    "\n",
    "Keep the game going until the user types “exit”\n",
    "Keep track of how many guesses the user has taken, and when the game ends, print this out."
   ]
  },
  {
   "cell_type": "code",
   "execution_count": null,
   "metadata": {},
   "outputs": [],
   "source": [
    "import random as r\n",
    "guesses = 0\n",
    "while(True):\n",
    "    rd_num = r.randint(1,9)\n",
    "    guess = (int)(input(\"Guess a number: \"))\n",
    "    print(rd_num)\n",
    "    if rd_num == guess:\n",
    "        print(\"You're right\")\n",
    "    elif rd_num > guess:\n",
    "        print(\"Too low\")\n",
    "    else:\n",
    "        print(\"Too high\")\n",
    "    guesses += 1\n",
    "    if input(\"Do you want to continue?\") == \"exit\":\n",
    "        break\n",
    "print(\"Games played: \", guesses)"
   ]
  },
  {
   "cell_type": "markdown",
   "metadata": {},
   "source": [
    "#### Exercise 10\n",
    "\n",
    "Take two lists, say for example these two:\n",
    "\n",
    "\ta = [1, 1, 2, 3, 5, 8, 13, 21, 34, 55, 89]\n",
    "\tb = [1, 2, 3, 4, 5, 6, 7, 8, 9, 10, 11, 12, 13]\n",
    "and write a program that returns a list that contains only the elements that are common between the lists (without duplicates). Make sure your program works on two lists of different sizes. Write this in one line of Python using at least one list comprehension. (Hint: Remember list comprehensions from Exercise 7).\n",
    "\n",
    "The original formulation of this exercise said to write the solution using one line of Python, but a few readers pointed out that this was impossible to do without using sets that I had not yet discussed on the blog, so you can either choose to use the original directive and read about the set command in Python 3.3, or try to implement this on your own and use at least one list comprehension in the solution.\n",
    "\n",
    "Extra:\n",
    "\n",
    "Randomly generate two lists to test this"
   ]
  },
  {
   "cell_type": "code",
   "execution_count": null,
   "metadata": {},
   "outputs": [],
   "source": [
    "import random as rd\n",
    "len_a = rd.randint(5,12)\n",
    "len_b = rd.randint(5,12)\n",
    "a = [rd.randint(1,20) for x in range(len_a)]\n",
    "b = [rd.randint(1,20) for x in range(len_b)]\n",
    "print(a)\n",
    "print(b)\n",
    "list(set(a) & set(b))"
   ]
  },
  {
   "cell_type": "markdown",
   "metadata": {},
   "source": [
    "### Exercise 11 (and Solution)\n",
    "[link](https://www.practicepython.org/exercise/2014/04/16/11-check-primality-functions.html)\n",
    "\n",
    "Ask the user for a number and determine whether the number is prime or not. (For those who have forgotten, a prime number is a number that has no divisors.). You can (and should!) use your answer to Exercise 4 to help you. Take this opportunity to practice using functions, described below."
   ]
  },
  {
   "cell_type": "code",
   "execution_count": 64,
   "metadata": {},
   "outputs": [],
   "source": [
    "def give_number(text_helper=\"give number: \"):\n",
    "    return (int)(input(text_helper))\n",
    "def is_prime(num):\n",
    "    prime = True\n",
    "    if num == 4:\n",
    "        print(\"{} - It's not prime number\".format(num))\n",
    "    else:\n",
    "        for x in range(2,(num//2)):\n",
    "            if num % x == 0:\n",
    "                prime = False\n",
    "                break\n",
    "        if prime:\n",
    "            print(\"{} - It's prime number\".format(num))\n",
    "        else:\n",
    "            print(\"{} - It's not prime number\".format(num))"
   ]
  },
  {
   "cell_type": "code",
   "execution_count": null,
   "metadata": {},
   "outputs": [],
   "source": [
    "is_prime(give_number(\"Give me number to check prime\"))"
   ]
  },
  {
   "cell_type": "markdown",
   "metadata": {},
   "source": [
    "### Exercise 12 (and Solution) [link](https://www.practicepython.org/exercise/2014/04/25/12-list-ends.html)\n",
    "Write a program that takes a list of numbers (for example, a = [5, 10, 15, 20, 25]) and makes a new list of only the first and last elements of the given list. For practice, write this code inside a function."
   ]
  },
  {
   "cell_type": "code",
   "execution_count": 97,
   "metadata": {},
   "outputs": [],
   "source": [
    "import random as rd\n",
    "\n",
    "def gen_rd_list(len_list=\"Give me len of list: \"):\n",
    "    len = (int)(input(len_list))\n",
    "    a = [(rd.randint(1,20)) for x in range(len)]\n",
    "    print(a)\n",
    "    return a\n",
    "\n",
    "def new_list(r_list):\n",
    "    return [r_list[0], r_list[len(r_list) - 1]]"
   ]
  },
  {
   "cell_type": "code",
   "execution_count": null,
   "metadata": {},
   "outputs": [],
   "source": [
    "print(new_list(gen_rd_list()))"
   ]
  },
  {
   "cell_type": "markdown",
   "metadata": {},
   "source": [
    "### Exercise 13 (and Solution) [Link](https://www.practicepython.org/exercise/2014/04/30/13-fibonacci.html)\n",
    "Write a program that asks the user how many Fibonnaci numbers to generate and then generates them. Take this opportunity to think about how you can use functions. Make sure to ask the user to enter the number of numbers in the sequence to generate.(Hint: The Fibonnaci seqence is a sequence of numbers where the next number in the sequence is the sum of the previous two numbers in the sequence. The sequence looks like this: 1, 1, 2, 3, 5, 8, 13, …)"
   ]
  },
  {
   "cell_type": "code",
   "execution_count": null,
   "metadata": {},
   "outputs": [],
   "source": [
    "def fib_len(user_num=\"Give me number for Fibonnaci sequence: \"):\n",
    "    return (int)(input(user_num))\n",
    "\n",
    "def fib_g_list(len):\n",
    "    print(\"Fibonnaci sequence for {} numbers\".format(len))\n",
    "    a = 1\n",
    "    b = 1\n",
    "    if len == 1:\n",
    "        return [a]\n",
    "    elif len == 2:\n",
    "        return [a, b]\n",
    "    else:\n",
    "        temp = [a, b]\n",
    "        for x in range(len - 2):\n",
    "            c = a + b\n",
    "            temp.append(c)\n",
    "            a = b\n",
    "            b = c\n",
    "        return temp\n",
    "\n",
    "fib_g_list(fib_len())\n"
   ]
  },
  {
   "cell_type": "markdown",
   "metadata": {},
   "source": [
    "### Exercise 14 (and Solution) [Link](https://www.practicepython.org/exercise/2014/05/15/14-list-remove-duplicates.html)\n",
    "Write a program (function!) that takes a list and returns a new list that contains all the elements of the first list minus all the duplicates.\n",
    "\n",
    "Extras:\n",
    "\n",
    "Write two different functions to do this - one using a loop and constructing a list, and another using sets.\n",
    "Go back and do Exercise 5 using sets, and write the solution for that in a different function."
   ]
  },
  {
   "cell_type": "code",
   "execution_count": null,
   "metadata": {},
   "outputs": [],
   "source": [
    "#1 using loop\n",
    "import random as rd\n",
    "def genr_list(len):\n",
    "    a = [rd.randint(1,5) for x in range(len)]\n",
    "    print(a)\n",
    "    return a\n",
    "\n",
    "def dup_removal(a_list):\n",
    "    new_list = [a_list[0]]\n",
    "    for x in a_list:\n",
    "        flag = False\n",
    "        for y in new_list:\n",
    "            if x == y:\n",
    "                flag = True\n",
    "                break\n",
    "        if not flag:\n",
    "            new_list.append(x)\n",
    "    print(new_list)"
   ]
  },
  {
   "cell_type": "code",
   "execution_count": null,
   "metadata": {},
   "outputs": [],
   "source": [
    "dup_removal(genr_list(10))"
   ]
  },
  {
   "cell_type": "code",
   "execution_count": 45,
   "metadata": {},
   "outputs": [],
   "source": [
    "#2 using sets\n",
    "import random as rd\n",
    "def genr_list(len: int):\n",
    "    a = [rd.randint(1,5) for x in range(len)]\n",
    "    print(a)\n",
    "    return a\n",
    "\n",
    "def dup_removal_sets(a_list):\n",
    "    return [x for x in (set(a_list) & set(a_list))]"
   ]
  },
  {
   "cell_type": "code",
   "execution_count": null,
   "metadata": {},
   "outputs": [],
   "source": [
    "dup_removal_sets(genr_list(10))"
   ]
  },
  {
   "cell_type": "markdown",
   "metadata": {},
   "source": [
    "### Exercise 15 (and Solution) [Link](https://www.practicepython.org/exercise/2014/05/21/15-reverse-word-order.html)\n",
    "\n",
    "Write a program (using functions!) that asks the user for a long string containing multiple words. Print back to the user the same string, except with the words in backwards order. For example, say I type the string:\n",
    "\n",
    "  \"My name is Michele\"\n",
    "Then I would see the string:\n",
    "\n",
    "  \"Michele is name My\"\n",
    "shown back to me."
   ]
  },
  {
   "cell_type": "code",
   "execution_count": 49,
   "metadata": {},
   "outputs": [],
   "source": [
    "def get_string(mess=\"Give me your multi-word string: \"):\n",
    "    return input(mess)\n",
    "\n",
    "def string_border(user_str):\n",
    "    print(user_str)\n",
    "    str_list = user_str.split()\n",
    "    bor_list = [str_list[len(str_list)-x-1] for x in range(len(str_list))]\n",
    "    return \" \".join(bor_list)"
   ]
  },
  {
   "cell_type": "code",
   "execution_count": null,
   "metadata": {},
   "outputs": [],
   "source": [
    "string_border(get_string())"
   ]
  }
 ],
 "metadata": {
  "kernelspec": {
   "display_name": "Python 3",
   "language": "python",
   "name": "python3"
  },
  "language_info": {
   "codemirror_mode": {
    "name": "ipython",
    "version": 3
   },
   "file_extension": ".py",
   "mimetype": "text/x-python",
   "name": "python",
   "nbconvert_exporter": "python",
   "pygments_lexer": "ipython3",
   "version": "3.13.0"
  }
 },
 "nbformat": 4,
 "nbformat_minor": 2
}
