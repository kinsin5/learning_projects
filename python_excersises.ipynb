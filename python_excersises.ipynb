{
 "cells": [
  {
   "cell_type": "markdown",
   "metadata": {},
   "source": [
    "https://www.practicepython.org/exercise/2014/03/12/06-string-lists.html\n",
    "6. Ask the user for a string and print out whether this string is a palindrome or not. (A palindrome is a string that reads the same forwards and backwards.)"
   ]
  },
  {
   "cell_type": "code",
   "execution_count": 24,
   "metadata": {},
   "outputs": [
    {
     "name": "stdout",
     "output_type": "stream",
     "text": [
      "Your word: anna is a palindrome\n"
     ]
    }
   ],
   "source": [
    "word = input(\"give me word: \")\n",
    "is_palindrom = True\n",
    "for i in range(int(len(word)/2)):\n",
    "    if word[i] != word[-(i+1)]:\n",
    "        is_palindrom = False\n",
    "        break\n",
    "print(\"Your word:\" , word, end= \" \")\n",
    "if is_palindrom: print(\"is a palindrome\")\n",
    "else: print(\"is not a palindrome\")\n"
   ]
  }
 ],
 "metadata": {
  "kernelspec": {
   "display_name": "Python 3",
   "language": "python",
   "name": "python3"
  },
  "language_info": {
   "codemirror_mode": {
    "name": "ipython",
    "version": 3
   },
   "file_extension": ".py",
   "mimetype": "text/x-python",
   "name": "python",
   "nbconvert_exporter": "python",
   "pygments_lexer": "ipython3",
   "version": "3.10.6"
  }
 },
 "nbformat": 4,
 "nbformat_minor": 2
}
