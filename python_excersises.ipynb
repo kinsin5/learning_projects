{
 "cells": [
  {
   "cell_type": "markdown",
   "metadata": {},
   "source": [
    "### Exercise 16 (and Solution) [link](https://www.practicepython.org/exercise/2014/05/28/16-password-generator.html)\n",
    "Note: this is a 4-chili exercise, not because it introduces a concept, but because this exercise is more like a project. Feel free to skip this and come back when you’re more ready!\n",
    "\n",
    "Write a password generator in Python. Be creative with how you generate passwords - strong passwords have a mix of lowercase letters, uppercase letters, numbers, and symbols. The passwords should be random, generating a new password every time the user asks for a new password. Include your run-time code in a main method.\n",
    "\n",
    "Extra:\n",
    "\n",
    "Ask the user how strong they want their password to be. For weak passwords, pick a word or two from a list"
   ]
  },
  {
   "cell_type": "code",
   "execution_count": null,
   "metadata": {},
   "outputs": [],
   "source": [
    "###random generators\n",
    "import random as rd\n",
    "def ra_num():\n",
    "    return (str)(rd.randint(0,9))\n",
    "def ra_letter():\n",
    "    return chr(rd.randint(97,123))\n",
    "def ra_symbol():\n",
    "    return chr(rd.randint(33,48))"
   ]
  },
  {
   "cell_type": "code",
   "execution_count": null,
   "metadata": {},
   "outputs": [],
   "source": [
    "##switching between random uper char, chars, nums and symbols\n",
    "def bucket_mix(r_num):\n",
    "    match r_num:\n",
    "        case 1:\n",
    "            return ra_letter().upper()\n",
    "        case 2:\n",
    "            return ra_letter()\n",
    "        case 3:\n",
    "            return ra_num()\n",
    "        case 4:\n",
    "            return ra_symbol()"
   ]
  },
  {
   "cell_type": "code",
   "execution_count": null,
   "metadata": {},
   "outputs": [],
   "source": [
    "\n",
    "def pass_creator(len_pass=rd.randint(10,20)):\n",
    "    passwd = \"\"\n",
    "    for x in range(len_pass):\n",
    "        passwd += bucket_mix(rd.randint(1,4))\n",
    "    return passwd"
   ]
  },
  {
   "cell_type": "code",
   "execution_count": null,
   "metadata": {},
   "outputs": [
    {
     "name": "stdout",
     "output_type": "stream",
     "text": [
      "j2SFD8*Y6LT9Ve++Y\n",
      "0.0001513957977294922\n"
     ]
    }
   ],
   "source": [
    "import time\n",
    "start = time.time()\n",
    "print(pass_creator())\n",
    "end = time.time()\n",
    "print(end - start)"
   ]
  },
  {
   "cell_type": "markdown",
   "metadata": {},
   "source": [
    "Decode A Web Page    \n",
    "### Exercise 17 (and Solution) [Link](https://www.practicepython.org/exercise/2014/06/06/17-decode-a-web-page.html)\n",
    "Note: this is a 4-chili exercise, not because it introduces a concept (although it introduces a new library), but because this exercise is more like a project. Feel free to skip this and come back when you’re more ready!\n",
    "\n",
    "Use the BeautifulSoup and requests Python packages to print out a list of all the article titles on the New York Times homepage. [NY Times](https://www.nytimes.com)"
   ]
  },
  {
   "cell_type": "code",
   "execution_count": 76,
   "metadata": {},
   "outputs": [
    {
     "name": "stdout",
     "output_type": "stream",
     "text": [
      "Make sense of the day’s news and ideas.\n",
      "Analysis that explains politics, policy and everyday life.\n",
      "See all newsletters\n",
      "The biggest stories of our time, in 20 minutes a day.\n",
      "On the campaign trail with Astead Herndon.\n",
      "See all podcasts\n",
      "Get what you need to know to start your day.\n",
      "Original analysis on the week’s biggest global stories.\n",
      "The latest news for any part of the world you select.\n",
      "Backstories and analysis from our Canadian correspondents.\n",
      "See all newsletters\n",
      "The most crucial business and policy news you need to know.\n",
      "See all newsletters\n",
      "Our tech journalists help you make sense of the rapidly changing tech world.\n",
      "See all podcasts\n",
      "Book recommendations from our critics.\n",
      "Streaming TV and movie recommendations.\n",
      "See all newsletters\n",
      "The podcast that takes you inside the literary world.\n",
      "Pop music news, new songs and albums, and artists of note.\n",
      "See all podcasts\n",
      "The latest news on what we wear, by our chief fashion critic.\n",
      "Essential news and guidance to live your healthiest life.\n",
      "See all newsletters\n",
      "The complicated love lives of real people.\n",
      "See all podcasts\n",
      "Thoughts, aloud. With Michelle Cottle, Ross Douthat, Carlos Lozada and Lydia Polgreen.\n",
      "Discussions of ideas that matter, plus book recommendations.\n",
      "See all podcasts\n",
      "Podcasts and narrated articles covering news, tech, culture and more.\n",
      "Download the Audio app on iOS.\n",
      "See all audio\n",
      "Conversations with the world’s most fascinating people.\n",
      "Your morning listen. Top stories, in 10 minutes.\n",
      "A Hollywood orca's real-life odyssey back to the ocean.\n",
      "Our editors share their favorite listens from the New York Times Audio app.\n",
      "See all newsletters\n",
      "Word games, logic puzzles and crosswords, including an extensive archive.\n",
      "Spelling Bee\n",
      "The Mini Crossword\n",
      "Wordle\n",
      "The Crossword\n",
      "Strands\n",
      "Connections\n",
      "Sudoku\n",
      "Letter Boxed\n",
      "Tiles\n",
      "Puzzles, brain teasers, solving tips and more.\n",
      "Get an easy version of one of the hardest crossword puzzles of the week.\n",
      "See all newsletters\n",
      "Recipes, advice and inspiration for everyday cooking, special occasions and more.\n",
      "New recipes, easy dinner ideas and smart kitchen tips from Melissa Clark, Sam Sifton and our New York Times Cooking editors.\n",
      "Delicious vegetarian recipes and tips from Tanya Sichynsky.\n",
      "Dinner ideas for busy people from Emily Weinstein.\n",
      "See all newsletters\n",
      "Reviews and recommendations for thousands of products.\n",
      "The best independent reviews, expert advice and intensively researched deals.\n",
      "Step-by-step advice on how to keep everything in your home squeaky clean.\n",
      "See all newsletters\n",
      "Personalized coverage of your sports teams and leagues.\n",
      "Delivering the top stories in sports, Sunday to Friday.\n",
      "The top stories in the NFL, from Jacob Robinson with Dianna Russini.\n",
      "The biggest stories in baseball, by Levi Weaver with Ken Rosenthal.\n",
      "Renowned soccer writer Phil Hay's daily newsletter unpacks the truth behind the game's biggest stories.\n",
      "Make sense of the day’s news and ideas.\n",
      "Analysis that explains politics, policy and everyday life.\n",
      "See all newsletters\n",
      "The biggest stories of our time, in 20 minutes a day.\n",
      "On the campaign trail with Astead Herndon.\n",
      "See all podcasts\n",
      "Get what you need to know to start your day.\n",
      "Original analysis on the week’s biggest global stories.\n",
      "The latest news for any part of the world you select.\n",
      "Backstories and analysis from our Canadian correspondents.\n",
      "See all newsletters\n",
      "The most crucial business and policy news you need to know.\n",
      "See all newsletters\n",
      "Our tech journalists help you make sense of the rapidly changing tech world.\n",
      "See all podcasts\n",
      "Book recommendations from our critics.\n",
      "Streaming TV and movie recommendations.\n",
      "See all newsletters\n",
      "The podcast that takes you inside the literary world.\n",
      "Pop music news, new songs and albums, and artists of note.\n",
      "See all podcasts\n",
      "The latest news on what we wear, by our chief fashion critic.\n",
      "Essential news and guidance to live your healthiest life.\n",
      "See all newsletters\n",
      "The complicated love lives of real people.\n",
      "See all podcasts\n",
      "Thoughts, aloud. With Michelle Cottle, Ross Douthat, Carlos Lozada and Lydia Polgreen.\n",
      "Discussions of ideas that matter, plus book recommendations.\n",
      "See all podcasts\n",
      "Podcasts and narrated articles covering news, tech, culture and more.\n",
      "Download the Audio app on iOS.\n",
      "See all audio\n",
      "Conversations with the world’s most fascinating people.\n",
      "Your morning listen. Top stories, in 10 minutes.\n",
      "A Hollywood orca's real-life odyssey back to the ocean.\n",
      "Our editors share their favorite listens from the New York Times Audio app.\n",
      "See all newsletters\n",
      "Word games, logic puzzles and crosswords, including an extensive archive.\n",
      "Spelling Bee\n",
      "The Mini Crossword\n",
      "Wordle\n",
      "The Crossword\n",
      "Strands\n",
      "Connections\n",
      "Sudoku\n",
      "Letter Boxed\n",
      "Tiles\n",
      "Puzzles, brain teasers, solving tips and more.\n",
      "Get an easy version of one of the hardest crossword puzzles of the week.\n",
      "See all newsletters\n",
      "Recipes, advice and inspiration for everyday cooking, special occasions and more.\n",
      "New recipes, easy dinner ideas and smart kitchen tips from Melissa Clark, Sam Sifton and our New York Times Cooking editors.\n",
      "Delicious vegetarian recipes and tips from Tanya Sichynsky.\n",
      "Dinner ideas for busy people from Emily Weinstein.\n",
      "See all newsletters\n",
      "Reviews and recommendations for thousands of products.\n",
      "The best independent reviews, expert advice and intensively researched deals.\n",
      "Step-by-step advice on how to keep everything in your home squeaky clean.\n",
      "See all newsletters\n",
      "Personalized coverage of your sports teams and leagues.\n",
      "Delivering the top stories in sports, Sunday to Friday.\n",
      "The top stories in the NFL, from Jacob Robinson with Dianna Russini.\n",
      "The biggest stories in baseball, by Levi Weaver with Ken Rosenthal.\n",
      "Renowned soccer writer Phil Hay's daily newsletter unpacks the truth behind the game's biggest stories.\n",
      "LIVE\n",
      "Trump Transition\n",
      "DealBook Summit\n",
      "C.E.O. Fatal Shooting\n",
      "France’s Prime Minister Loses No-Confidence Vote and Is Expected to Resign\n",
      "Prime Minister Michel Barnier is likely to remain as a caretaker until a replacement is named. But the vote could create a wider opening for the far right.\n",
      "5 min read\n",
      "Collapse of France’s Government Further Burdens Its Weak Economy\n",
      "5 min read\n",
      "LIVE\n",
      "Police Hunt for Gunman After UnitedHealthcare C.E.O. Is Killed in Manhattan\n",
      " \n",
      "Brian Thompson Was a Veteran Executive at UnitedHealthcare\n",
      "3 min read\n",
      "Supreme Court Transgender Case\n",
      "Supreme Court Appears Inclined to Uphold Tennessee Law on Transgender Care\n",
      "Assessing the court’s direction was complicated by the silence of one justice in the conservative majority, Neil Gorsuch. A decision is expected by June.\n",
      " \n",
      "26 States Have Restricted Gender-Transition Care for Minors Since 2021\n",
      "2 min read\n",
      "Supreme Court Decision Could Affect Other Trans Rights Cases\n",
      "3 min read\n",
      "Trump Transition\n",
      "LIVE\n",
      "One Senator Is Pivotal to Pete Hegseth’s Viability as Defense Secretary\n",
      "Trump picks Gail Slater to lead the Justice Department’s antitrust efforts.\n",
      "Trump replaces his White House counsel before he even started the job.\n",
      " \n",
      "BREAKING\n",
      "Nadler to Relinquish Top Judiciary Post, Bowing to Calls for Change\n",
      "Representative Jerrold Nadler faced a challenge from Representative Jamie Raskin, and pressure from colleagues who wanted a younger figure at the helm.\n",
      "3 min read\n",
      "Trump’s Incoming Border Czar Sees Texas as a ‘Model’ for Enforcement\n",
      "6 min read\n",
      "Pardon Backlash Reflects Fraught Breakup Between Democrats and Biden\n",
      "5 min read\n",
      "Trump Chooses Paul Atkins to Run the S.E.C.\n",
      "4 min read\n",
      "Trump Picks Jared Isaacman, Entrepreneur and Private Astronaut, to Lead NASA\n",
      "2 min read\n",
      "Best of 2024\n",
      "Best Albums of 2024\n",
      "Charli XCX, Mk.gee and MJ Lenderman top our pop music critics’ lists this year.\n",
      "14 min read\n",
      "South Korea Turmoil\n",
      "Lawmakers Move to Impeach South Korean Leader After Failed Martial Law Bid\n",
      "President Yoon Suk Yeol’s attempt to break a political deadlock by imposing military rule collapsed within hours, leaving him with few defenders.\n",
      "5 min read\n",
      "South Korea’s Turmoil Is the Latest Threat to a Three-Way Pacific Alliance\n",
      "5 min read\n",
      "How the Impeachment of South Korea’s President Could Unfold\n",
      "See each stage of the impeachment process, and what is to come for President Yoon Suk Yeol.\n",
      "\n",
      "LIVE\n",
      "Google C.E.O. Sundar Pichai Takes the Stage at DealBook Summit\n",
      "Fed Chair Jerome Powell acknowledges inflation is a ‘little higher’ than expected.\n",
      "Bill Clinton defends the Hunter Biden pardon, but suggests it was mishandled.\n",
      "Sam Altman downplays the dangers of A.I. and Elon Musk.\n",
      " \n",
      "DealBookNewsletter\n",
      "Serena Williams, Prince Harry, Jeff Bezos: Today’s DealBook Summit Lineup\n",
      "4 min read\n",
      "Israel Says Hostages Were Probably Killed by Hamas as Airstrike Hit\n",
      "The six hostages, whose bodies were found in Gaza over the summer, were probably shot as an airstrike hit close to where they were held, the military said.\n",
      "4 min read\n",
      "Syria’s Rebel Offensive\n",
      "With Assad Challenged, a Push to Cut Syria’s Ties to Iran Grows More Unlikely\n",
      "The U.S. and Gulf countries were trying to lure President Bashar al-Assad of Syria away from Iran, officials say. But he is unlikely to give up the alliance.\n",
      "6 min read\n",
      "Syrian Forces Battle Rebels Outside Government Stronghold\n",
      "5 min read\n",
      "Google Introduces A.I. Agent That Aces 15-Day Weather Forecasts\n",
      "GenCast, from the company’s DeepMind division, outperformed the world’s best predictions of deadly storms as well as everyday weather.\n",
      "5 min read\n",
      "Mary McGee, Motorcycle Racing Pioneer, Is Dead at 87\n",
      "Her most remarkable achievement came in 1975, when she became the first person to complete the Baja 500 race solo.\n",
      "4 min read\n",
      "Carlos Lozada\n",
      "Donald Trump and Pete Hegseth Have the Same Enemies\n",
      "9 min read\n",
      "Maureen Dowd\n",
      "The Last Time Alcohol Poisoned a Defense Nomination\n",
      "2 min read\n",
      "Thomas B. Edsall\n",
      "Trump’s Project 2025 May Not Be What It Seemed. It’s Worse.\n",
      "11 min read\n",
      "Christopher Blackwell\n",
      "I Should Never Have Picked Up That Gun\n",
      "6 min read\n",
      "Jessica Grose\n",
      "Human Interaction Is Now a Luxury Good\n",
      "4 min read\n",
      "Charles Fain Lehman\n",
      "Will Trump Be the President of Vice?\n",
      "5 min read\n",
      "Bret Stephens\n",
      "Can Rahm Emanuel Flip the Script Again?\n",
      "4 min read\n",
      "Chase Strangio\n",
      "May It Please the Court: Trans Health Saved My Life\n",
      "5 min read\n",
      "Charles M. Blow\n",
      "Serving the Innocent Children of Incarcerated Parents\n",
      "4 min read\n",
      "Letters From Our Readers\n",
      "The Debate Over the Hunter Biden Pardon\n",
      "5 min read\n",
      "Jonathan Alter\n",
      "Will ‘Constitutional Republicans’ Save the Senate?\n",
      "3 min read\n",
      "Ezra Klein\n",
      "It’s the Corruption, Stupid\n",
      "Advertisement\n",
      "Russian General Calls U.S. Chairman of Joint Chiefs\n",
      "In an unusual call, the two men “discussed a number of global and regional security issues, to include the ongoing conflict in Ukraine,” a spokesman said.\n",
      "2 min read\n",
      "Trump Tax Cuts Won’t Help the Economy Grow, Budget Office Finds\n",
      "A larger debt and higher interest rates would cancel out the boost from keeping individual taxes lower, the nonpartisan Congressional Budget Office found.\n",
      "3 min read\n",
      "Georgia Tumbles Deeper Into Crisis as Opposition Leader Is Detained\n",
      "In a widening crackdown, security agents have searched the offices and homes of prominent activists who fear the country is turning closer to Russia.\n",
      "2 min read\n",
      "They Were the Last of Their Kind, in Captivity. Can 5 Survive the Wild?\n",
      "Researchers are trying a new strategy to reintroduce Hawaiian crows, which have been extinct in the wild for two decades.\n",
      "4 min read\n",
      "The Athletic\n",
      "Advertisement\n",
      "Audio\n",
      "Advertisement\n",
      "Games\n",
      "Wordle\n",
      "Guess the 5-letter word with 6 chances.\n",
      "Connections\n",
      "Group words that share a common thread.\n",
      "Strands\n",
      "Uncover hidden words and reveal the theme.\n",
      "Spelling Bee\n",
      "How many words can you make with 7 letters?\n",
      "The Crossword\n",
      "Get clued in with wordplay, every day.\n",
      "The Mini Crossword\n",
      "Take a break from the news. Solve this bite-sized puzzle in just a few minutes.\n",
      "Advertisement\n"
     ]
    }
   ],
   "source": [
    "import requests\n",
    "from bs4 import BeautifulSoup\n",
    "url = \"https://www.nytimes.com\"\n",
    "r = requests.get(url)\n",
    "r_html = r.text\n",
    "\n",
    "soup = BeautifulSoup(r_html)\n",
    "for x in soup.find_all('p'):\n",
    "    print(x.text)"
   ]
  },
  {
   "cell_type": "markdown",
   "metadata": {},
   "source": [
    "https://www.practicepython.org/exercise/2014/03/12/06-string-lists.html\n",
    "6. Ask the user for a string and print out whether this string is a palindrome or not. (A palindrome is a string that reads the same forwards and backwards.)"
   ]
  },
  {
   "cell_type": "code",
   "execution_count": null,
   "metadata": {},
   "outputs": [],
   "source": [
    "word = input(\"give me word: \")\n",
    "is_palindrom = True\n",
    "for i in range(int(len(word)/2)):\n",
    "    if word[i] != word[-(i+1)]:\n",
    "        is_palindrom = False\n",
    "        break\n",
    "print(\"Your word:\" , word, end= \" \")\n",
    "if is_palindrom: print(\"is a palindrome\")\n",
    "else: print(\"is not a palindrome\")\n"
   ]
  },
  {
   "cell_type": "markdown",
   "metadata": {},
   "source": [
    "https://www.practicepython.org/exercise/2014/03/19/07-list-comprehensions.html\n",
    "Exercise 7 (and Solution)\n",
    "Let’s say I give you a list saved in a variable: a = [1, 4, 9, 16, 25, 36, 49, 64, 81, 100]. Write one line of Python that takes this list a and makes a new list that has only the even elements of this list in it."
   ]
  },
  {
   "cell_type": "code",
   "execution_count": null,
   "metadata": {},
   "outputs": [],
   "source": [
    "a = [1, 4, 9, 16, 25, 36, 49, 64, 81, 100]\n",
    "new_list = [x for x in a if x % 2 == 0]\n",
    "print(new_list)"
   ]
  },
  {
   "cell_type": "markdown",
   "metadata": {},
   "source": [
    "Make a two-player Rock-Paper-Scissors game. (Hint: Ask for player plays (using input), compare them, print out a message of congratulations to the winner, and ask if the players want to start a new game)\n",
    "\n",
    "Remember the rules:\n",
    "\n",
    "Rock beats scissors\n",
    "Scissors beats paper\n",
    "Paper beats rock"
   ]
  },
  {
   "cell_type": "code",
   "execution_count": null,
   "metadata": {},
   "outputs": [],
   "source": [
    "opt = \"y\"\n",
    "count = 0\n",
    "while(opt == \"y\"):\n",
    "    p1 = input(\"Player 1 give me your play: r/p/s\")\n",
    "    p2 = input(\"Player 2 give me your play: r/p/s\")\n",
    "    count += 1\n",
    "    print(\"Game \", count, end= \": \" )\n",
    "    if p1 == \"r\":\n",
    "        if p2 == \"r\":\n",
    "            print(\"Tie\")\n",
    "        elif p2 == \"p\":\n",
    "            print(\"Player 2 won\")\n",
    "        else:\n",
    "            print(\"Player 1 won\")\n",
    "    elif p1 == \"p\":\n",
    "        if  p2 == \"r\":\n",
    "            print(\"Player 1 won\")\n",
    "        elif p2 == \"p\":\n",
    "            print(\"Tie\")\n",
    "        else:\n",
    "            print(\"Player 2 won\")\n",
    "    elif p1 == \"s\":\n",
    "        if  p2 == \"r\":\n",
    "            print(\"Player 2 won\")\n",
    "        elif p2 == \"p\":\n",
    "            print(\"Player 1 won\")\n",
    "        else:\n",
    "            print(\"Tie\")\n",
    "    opt = input(\"Do you want to continue [y] - yes, [anything else] - no\")\n",
    "\n",
    "\n",
    "\n",
    "    \n"
   ]
  },
  {
   "cell_type": "markdown",
   "metadata": {},
   "source": [
    "Exercise 9 (and Solution)\n",
    "Generate a random number between 1 and 9 (including 1 and 9). Ask the user to guess the number, then tell them whether they guessed too low, too high, or exactly right. (Hint: remember to use the user input lessons from the very first exercise)\n",
    "\n",
    "Extras:\n",
    "\n",
    "Keep the game going until the user types “exit”\n",
    "Keep track of how many guesses the user has taken, and when the game ends, print this out."
   ]
  },
  {
   "cell_type": "code",
   "execution_count": null,
   "metadata": {},
   "outputs": [],
   "source": [
    "import random as r\n",
    "guesses = 0\n",
    "while(True):\n",
    "    rd_num = r.randint(1,9)\n",
    "    guess = (int)(input(\"Guess a number: \"))\n",
    "    print(rd_num)\n",
    "    if rd_num == guess:\n",
    "        print(\"You're right\")\n",
    "    elif rd_num > guess:\n",
    "        print(\"Too low\")\n",
    "    else:\n",
    "        print(\"Too high\")\n",
    "    guesses += 1\n",
    "    if input(\"Do you want to continue?\") == \"exit\":\n",
    "        break\n",
    "print(\"Games played: \", guesses)"
   ]
  },
  {
   "cell_type": "markdown",
   "metadata": {},
   "source": [
    "#### Exercise 10\n",
    "\n",
    "Take two lists, say for example these two:\n",
    "\n",
    "\ta = [1, 1, 2, 3, 5, 8, 13, 21, 34, 55, 89]\n",
    "\tb = [1, 2, 3, 4, 5, 6, 7, 8, 9, 10, 11, 12, 13]\n",
    "and write a program that returns a list that contains only the elements that are common between the lists (without duplicates). Make sure your program works on two lists of different sizes. Write this in one line of Python using at least one list comprehension. (Hint: Remember list comprehensions from Exercise 7).\n",
    "\n",
    "The original formulation of this exercise said to write the solution using one line of Python, but a few readers pointed out that this was impossible to do without using sets that I had not yet discussed on the blog, so you can either choose to use the original directive and read about the set command in Python 3.3, or try to implement this on your own and use at least one list comprehension in the solution.\n",
    "\n",
    "Extra:\n",
    "\n",
    "Randomly generate two lists to test this"
   ]
  },
  {
   "cell_type": "code",
   "execution_count": 19,
   "metadata": {},
   "outputs": [
    {
     "name": "stdout",
     "output_type": "stream",
     "text": [
      "[13, 1, 18, 11, 18, 15, 1, 8, 20, 6, 11]\n",
      "[6, 3, 19, 3, 16, 1, 16, 20, 10, 9]\n"
     ]
    },
    {
     "data": {
      "text/plain": [
       "[1, 20, 6]"
      ]
     },
     "execution_count": 19,
     "metadata": {},
     "output_type": "execute_result"
    }
   ],
   "source": [
    "import random as rd\n",
    "len_a = rd.randint(5,12)\n",
    "len_b = rd.randint(5,12)\n",
    "a = [rd.randint(1,20) for x in range(len_a)]\n",
    "b = [rd.randint(1,20) for x in range(len_b)]\n",
    "print(a)\n",
    "print(b)\n",
    "list(set(a) & set(b))"
   ]
  },
  {
   "cell_type": "markdown",
   "metadata": {},
   "source": [
    "### Exercise 11 (and Solution)\n",
    "[link](https://www.practicepython.org/exercise/2014/04/16/11-check-primality-functions.html)\n",
    "\n",
    "Ask the user for a number and determine whether the number is prime or not. (For those who have forgotten, a prime number is a number that has no divisors.). You can (and should!) use your answer to Exercise 4 to help you. Take this opportunity to practice using functions, described below."
   ]
  },
  {
   "cell_type": "code",
   "execution_count": 64,
   "metadata": {},
   "outputs": [],
   "source": [
    "def give_number(text_helper=\"give number: \"):\n",
    "    return (int)(input(text_helper))\n",
    "def is_prime(num):\n",
    "    prime = True\n",
    "    if num == 4:\n",
    "        print(\"{} - It's not prime number\".format(num))\n",
    "    else:\n",
    "        for x in range(2,(num//2)):\n",
    "            if num % x == 0:\n",
    "                prime = False\n",
    "                break\n",
    "        if prime:\n",
    "            print(\"{} - It's prime number\".format(num))\n",
    "        else:\n",
    "            print(\"{} - It's not prime number\".format(num))"
   ]
  },
  {
   "cell_type": "code",
   "execution_count": 66,
   "metadata": {},
   "outputs": [
    {
     "name": "stdout",
     "output_type": "stream",
     "text": [
      "137 - It's prime number\n"
     ]
    }
   ],
   "source": [
    "is_prime(give_number(\"Give me number to check prime\"))"
   ]
  },
  {
   "cell_type": "markdown",
   "metadata": {},
   "source": [
    "### Exercise 12 (and Solution) [link](https://www.practicepython.org/exercise/2014/04/25/12-list-ends.html)\n",
    "Write a program that takes a list of numbers (for example, a = [5, 10, 15, 20, 25]) and makes a new list of only the first and last elements of the given list. For practice, write this code inside a function."
   ]
  },
  {
   "cell_type": "code",
   "execution_count": 97,
   "metadata": {},
   "outputs": [],
   "source": [
    "import random as rd\n",
    "\n",
    "def gen_rd_list(len_list=\"Give me len of list: \"):\n",
    "    len = (int)(input(len_list))\n",
    "    a = [(rd.randint(1,20)) for x in range(len)]\n",
    "    print(a)\n",
    "    return a\n",
    "\n",
    "def new_list(r_list):\n",
    "    return [r_list[0], r_list[len(r_list) - 1]]"
   ]
  },
  {
   "cell_type": "code",
   "execution_count": 98,
   "metadata": {},
   "outputs": [
    {
     "name": "stdout",
     "output_type": "stream",
     "text": [
      "[15, 16, 16, 16, 12, 11, 3, 10, 17, 3]\n",
      "[15, 3]\n"
     ]
    }
   ],
   "source": [
    "print(new_list(gen_rd_list()))"
   ]
  },
  {
   "cell_type": "markdown",
   "metadata": {},
   "source": [
    "### Exercise 13 (and Solution) [Link](https://www.practicepython.org/exercise/2014/04/30/13-fibonacci.html)\n",
    "Write a program that asks the user how many Fibonnaci numbers to generate and then generates them. Take this opportunity to think about how you can use functions. Make sure to ask the user to enter the number of numbers in the sequence to generate.(Hint: The Fibonnaci seqence is a sequence of numbers where the next number in the sequence is the sum of the previous two numbers in the sequence. The sequence looks like this: 1, 1, 2, 3, 5, 8, 13, …)"
   ]
  },
  {
   "cell_type": "code",
   "execution_count": 115,
   "metadata": {},
   "outputs": [
    {
     "name": "stdout",
     "output_type": "stream",
     "text": [
      "Fibonnaci sequence for 8 numbers\n"
     ]
    },
    {
     "data": {
      "text/plain": [
       "[1, 1, 2, 3, 5, 8, 13, 21]"
      ]
     },
     "execution_count": 115,
     "metadata": {},
     "output_type": "execute_result"
    }
   ],
   "source": [
    "def fib_len(user_num=\"Give me number for Fibonnaci sequence: \"):\n",
    "    return (int)(input(user_num))\n",
    "\n",
    "def fib_g_list(len):\n",
    "    print(\"Fibonnaci sequence for {} numbers\".format(len))\n",
    "    a = 1\n",
    "    b = 1\n",
    "    if len == 1:\n",
    "        return [a]\n",
    "    elif len == 2:\n",
    "        return [a, b]\n",
    "    else:\n",
    "        temp = [a, b]\n",
    "        for x in range(len - 2):\n",
    "            c = a + b\n",
    "            temp.append(c)\n",
    "            a = b\n",
    "            b = c\n",
    "        return temp\n",
    "\n",
    "fib_g_list(fib_len())\n"
   ]
  },
  {
   "cell_type": "markdown",
   "metadata": {},
   "source": [
    "### Exercise 14 (and Solution) [Link](https://www.practicepython.org/exercise/2014/05/15/14-list-remove-duplicates.html)\n",
    "Write a program (function!) that takes a list and returns a new list that contains all the elements of the first list minus all the duplicates.\n",
    "\n",
    "Extras:\n",
    "\n",
    "Write two different functions to do this - one using a loop and constructing a list, and another using sets.\n",
    "Go back and do Exercise 5 using sets, and write the solution for that in a different function."
   ]
  },
  {
   "cell_type": "code",
   "execution_count": null,
   "metadata": {},
   "outputs": [],
   "source": [
    "#1 using loop\n",
    "import random as rd\n",
    "def genr_list(len):\n",
    "    a = [rd.randint(1,5) for x in range(len)]\n",
    "    print(a)\n",
    "    return a\n",
    "\n",
    "def dup_removal(a_list):\n",
    "    new_list = [a_list[0]]\n",
    "    for x in a_list:\n",
    "        flag = False\n",
    "        for y in new_list:\n",
    "            if x == y:\n",
    "                flag = True\n",
    "                break\n",
    "        if not flag:\n",
    "            new_list.append(x)\n",
    "    print(new_list)"
   ]
  },
  {
   "cell_type": "code",
   "execution_count": 26,
   "metadata": {},
   "outputs": [
    {
     "name": "stdout",
     "output_type": "stream",
     "text": [
      "[5, 3, 5, 2, 2, 5, 5, 2, 3, 1]\n",
      "[5, 3, 2, 1]\n"
     ]
    }
   ],
   "source": [
    "dup_removal(genr_list(10))"
   ]
  },
  {
   "cell_type": "code",
   "execution_count": 45,
   "metadata": {},
   "outputs": [],
   "source": [
    "#2 using sets\n",
    "import random as rd\n",
    "def genr_list(len: int):\n",
    "    a = [rd.randint(1,5) for x in range(len)]\n",
    "    print(a)\n",
    "    return a\n",
    "\n",
    "def dup_removal_sets(a_list):\n",
    "    return [x for x in (set(a_list) & set(a_list))]"
   ]
  },
  {
   "cell_type": "code",
   "execution_count": 46,
   "metadata": {},
   "outputs": [
    {
     "name": "stdout",
     "output_type": "stream",
     "text": [
      "[5, 5, 2, 5, 2, 5, 3, 4, 2, 5]\n"
     ]
    },
    {
     "data": {
      "text/plain": [
       "[2, 3, 4, 5]"
      ]
     },
     "execution_count": 46,
     "metadata": {},
     "output_type": "execute_result"
    }
   ],
   "source": [
    "dup_removal_sets(genr_list(10))"
   ]
  },
  {
   "cell_type": "markdown",
   "metadata": {},
   "source": [
    "### Exercise 15 (and Solution) [Link](https://www.practicepython.org/exercise/2014/05/21/15-reverse-word-order.html)\n",
    "\n",
    "Write a program (using functions!) that asks the user for a long string containing multiple words. Print back to the user the same string, except with the words in backwards order. For example, say I type the string:\n",
    "\n",
    "  \"My name is Michele\"\n",
    "Then I would see the string:\n",
    "\n",
    "  \"Michele is name My\"\n",
    "shown back to me."
   ]
  },
  {
   "cell_type": "code",
   "execution_count": 49,
   "metadata": {},
   "outputs": [],
   "source": [
    "def get_string(mess=\"Give me your multi-word string: \"):\n",
    "    return input(mess)\n",
    "\n",
    "def string_border(user_str: str):\n",
    "    print(user_str)\n",
    "    str_list = user_str.split()\n",
    "    bor_list = [str_list[len(str_list)-x-1] for x in range(len(str_list))]\n",
    "    return \" \".join(bor_list)"
   ]
  },
  {
   "cell_type": "code",
   "execution_count": 50,
   "metadata": {},
   "outputs": [
    {
     "name": "stdout",
     "output_type": "stream",
     "text": [
      "Words to test my program of printing string in backwards order\n"
     ]
    },
    {
     "data": {
      "text/plain": [
       "'order backwards in string printing of program my test to Words'"
      ]
     },
     "execution_count": 50,
     "metadata": {},
     "output_type": "execute_result"
    }
   ],
   "source": [
    "string_border(get_string())"
   ]
  }
 ],
 "metadata": {
  "kernelspec": {
   "display_name": "Python 3",
   "language": "python",
   "name": "python3"
  },
  "language_info": {
   "codemirror_mode": {
    "name": "ipython",
    "version": 3
   },
   "file_extension": ".py",
   "mimetype": "text/x-python",
   "name": "python",
   "nbconvert_exporter": "python",
   "pygments_lexer": "ipython3",
   "version": "3.13.0"
  }
 },
 "nbformat": 4,
 "nbformat_minor": 2
}
