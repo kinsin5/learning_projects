{
 "cells": [
  {
   "cell_type": "markdown",
   "metadata": {},
   "source": [
    "https://www.practicepython.org/exercise/2014/03/12/06-string-lists.html\n",
    "6. Ask the user for a string and print out whether this string is a palindrome or not. (A palindrome is a string that reads the same forwards and backwards.)"
   ]
  },
  {
   "cell_type": "code",
   "execution_count": null,
   "metadata": {},
   "outputs": [],
   "source": [
    "word = input(\"give me word: \")\n",
    "is_palindrom = True\n",
    "for i in range(int(len(word)/2)):\n",
    "    if word[i] != word[-(i+1)]:\n",
    "        is_palindrom = False\n",
    "        break\n",
    "print(\"Your word:\" , word, end= \" \")\n",
    "if is_palindrom: print(\"is a palindrome\")\n",
    "else: print(\"is not a palindrome\")\n"
   ]
  },
  {
   "cell_type": "markdown",
   "metadata": {},
   "source": [
    "https://www.practicepython.org/exercise/2014/03/19/07-list-comprehensions.html\n",
    "Exercise 7 (and Solution)\n",
    "Let’s say I give you a list saved in a variable: a = [1, 4, 9, 16, 25, 36, 49, 64, 81, 100]. Write one line of Python that takes this list a and makes a new list that has only the even elements of this list in it."
   ]
  },
  {
   "cell_type": "code",
   "execution_count": null,
   "metadata": {},
   "outputs": [],
   "source": [
    "a = [1, 4, 9, 16, 25, 36, 49, 64, 81, 100]\n",
    "new_list = [x for x in a if x % 2 == 0]\n",
    "print(new_list)"
   ]
  },
  {
   "cell_type": "markdown",
   "metadata": {},
   "source": [
    "Make a two-player Rock-Paper-Scissors game. (Hint: Ask for player plays (using input), compare them, print out a message of congratulations to the winner, and ask if the players want to start a new game)\n",
    "\n",
    "Remember the rules:\n",
    "\n",
    "Rock beats scissors\n",
    "Scissors beats paper\n",
    "Paper beats rock"
   ]
  },
  {
   "cell_type": "code",
   "execution_count": null,
   "metadata": {},
   "outputs": [],
   "source": [
    "opt = \"y\"\n",
    "count = 0\n",
    "while(opt == \"y\"):\n",
    "    p1 = input(\"Player 1 give me your play: r/p/s\")\n",
    "    p2 = input(\"Player 2 give me your play: r/p/s\")\n",
    "    count += 1\n",
    "    print(\"Game \", count, end= \": \" )\n",
    "    if p1 == \"r\":\n",
    "        if p2 == \"r\":\n",
    "            print(\"Tie\")\n",
    "        elif p2 == \"p\":\n",
    "            print(\"Player 2 won\")\n",
    "        else:\n",
    "            print(\"Player 1 won\")\n",
    "    elif p1 == \"p\":\n",
    "        if  p2 == \"r\":\n",
    "            print(\"Player 1 won\")\n",
    "        elif p2 == \"p\":\n",
    "            print(\"Tie\")\n",
    "        else:\n",
    "            print(\"Player 2 won\")\n",
    "    elif p1 == \"s\":\n",
    "        if  p2 == \"r\":\n",
    "            print(\"Player 2 won\")\n",
    "        elif p2 == \"p\":\n",
    "            print(\"Player 1 won\")\n",
    "        else:\n",
    "            print(\"Tie\")\n",
    "    opt = input(\"Do you want to continue [y] - yes, [anything else] - no\")\n",
    "\n",
    "\n",
    "\n",
    "    \n"
   ]
  },
  {
   "cell_type": "markdown",
   "metadata": {},
   "source": [
    "Exercise 9 (and Solution)\n",
    "Generate a random number between 1 and 9 (including 1 and 9). Ask the user to guess the number, then tell them whether they guessed too low, too high, or exactly right. (Hint: remember to use the user input lessons from the very first exercise)\n",
    "\n",
    "Extras:\n",
    "\n",
    "Keep the game going until the user types “exit”\n",
    "Keep track of how many guesses the user has taken, and when the game ends, print this out."
   ]
  },
  {
   "cell_type": "code",
   "execution_count": null,
   "metadata": {},
   "outputs": [],
   "source": [
    "import random as r\n",
    "guesses = 0\n",
    "while(True):\n",
    "    rd_num = r.randint(1,9)\n",
    "    guess = (int)(input(\"Guess a number: \"))\n",
    "    print(rd_num)\n",
    "    if rd_num == guess:\n",
    "        print(\"You're right\")\n",
    "    elif rd_num > guess:\n",
    "        print(\"Too low\")\n",
    "    else:\n",
    "        print(\"Too high\")\n",
    "    guesses += 1\n",
    "    if input(\"Do you want to continue?\") == \"exit\":\n",
    "        break\n",
    "print(\"Games played: \", guesses)"
   ]
  },
  {
   "cell_type": "markdown",
   "metadata": {},
   "source": [
    "#### Exercise 10\n",
    "\n",
    "Take two lists, say for example these two:\n",
    "\n",
    "\ta = [1, 1, 2, 3, 5, 8, 13, 21, 34, 55, 89]\n",
    "\tb = [1, 2, 3, 4, 5, 6, 7, 8, 9, 10, 11, 12, 13]\n",
    "and write a program that returns a list that contains only the elements that are common between the lists (without duplicates). Make sure your program works on two lists of different sizes. Write this in one line of Python using at least one list comprehension. (Hint: Remember list comprehensions from Exercise 7).\n",
    "\n",
    "The original formulation of this exercise said to write the solution using one line of Python, but a few readers pointed out that this was impossible to do without using sets that I had not yet discussed on the blog, so you can either choose to use the original directive and read about the set command in Python 3.3, or try to implement this on your own and use at least one list comprehension in the solution.\n",
    "\n",
    "Extra:\n",
    "\n",
    "Randomly generate two lists to test this"
   ]
  },
  {
   "cell_type": "code",
   "execution_count": 19,
   "metadata": {},
   "outputs": [
    {
     "name": "stdout",
     "output_type": "stream",
     "text": [
      "[13, 1, 18, 11, 18, 15, 1, 8, 20, 6, 11]\n",
      "[6, 3, 19, 3, 16, 1, 16, 20, 10, 9]\n"
     ]
    },
    {
     "data": {
      "text/plain": [
       "[1, 20, 6]"
      ]
     },
     "execution_count": 19,
     "metadata": {},
     "output_type": "execute_result"
    }
   ],
   "source": [
    "import random as rd\n",
    "len_a = rd.randint(5,12)\n",
    "len_b = rd.randint(5,12)\n",
    "a = [rd.randint(1,20) for x in range(len_a)]\n",
    "b = [rd.randint(1,20) for x in range(len_b)]\n",
    "print(a)\n",
    "print(b)\n",
    "list(set(a) & set(b))"
   ]
  },
  {
   "cell_type": "markdown",
   "metadata": {},
   "source": [
    "### Exercise 11 (and Solution)\n",
    "[link](https://www.practicepython.org/exercise/2014/04/16/11-check-primality-functions.html)\n",
    "\n",
    "Ask the user for a number and determine whether the number is prime or not. (For those who have forgotten, a prime number is a number that has no divisors.). You can (and should!) use your answer to Exercise 4 to help you. Take this opportunity to practice using functions, described below."
   ]
  },
  {
   "cell_type": "code",
   "execution_count": 64,
   "metadata": {},
   "outputs": [],
   "source": [
    "def give_number(text_helper=\"give number: \"):\n",
    "    return (int)(input(text_helper))\n",
    "def is_prime(num):\n",
    "    prime = True\n",
    "    if num == 4:\n",
    "        print(\"{} - It's not prime number\".format(num))\n",
    "    else:\n",
    "        for x in range(2,(num//2)):\n",
    "            if num % x == 0:\n",
    "                prime = False\n",
    "                break\n",
    "        if prime:\n",
    "            print(\"{} - It's prime number\".format(num))\n",
    "        else:\n",
    "            print(\"{} - It's not prime number\".format(num))"
   ]
  },
  {
   "cell_type": "code",
   "execution_count": 66,
   "metadata": {},
   "outputs": [
    {
     "name": "stdout",
     "output_type": "stream",
     "text": [
      "137 - It's prime number\n"
     ]
    }
   ],
   "source": [
    "is_prime(give_number(\"Give me number to check prime\"))"
   ]
  }
 ],
 "metadata": {
  "kernelspec": {
   "display_name": "Python 3",
   "language": "python",
   "name": "python3"
  },
  "language_info": {
   "codemirror_mode": {
    "name": "ipython",
    "version": 3
   },
   "file_extension": ".py",
   "mimetype": "text/x-python",
   "name": "python",
   "nbconvert_exporter": "python",
   "pygments_lexer": "ipython3",
   "version": "3.13.0"
  }
 },
 "nbformat": 4,
 "nbformat_minor": 2
}
