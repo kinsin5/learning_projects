{
 "cells": [
  {
   "cell_type": "markdown",
   "metadata": {},
   "source": [
    "#### Read From File [link](https://www.practicepython.org/exercise/2014/12/06/22-read-from-file.html)\n",
    "Exercise 22 (and Solution)\n",
    "Given a .txt file that has a list of a bunch of names, count how many of each name there are in the file, and print out the results to the screen. I have a .txt file for you, if you want to use it!\n",
    "\n",
    "Extra:\n",
    "\n",
    "Instead of using the .txt file from above (or instead of, if you want the challenge), take this .txt file, and count how many of each “category” of each image there are. This text file is actually a list of files corresponding to the SUN database scene recognition database, and lists the file directory hierarchy for the images. Once you take a look at the first line or two of the file, it will be clear which part represents the scene category. To do this, you’re going to have to remember a bit about string parsing in Python 3. I talked a little bit about it in this post."
   ]
  },
  {
   "cell_type": "code",
   "execution_count": null,
   "metadata": {},
   "outputs": [
    {
     "data": {
      "text/plain": [
       "['abbey', 'abbey', 'abbey', 'abbey', 'abbey']"
      ]
     },
     "execution_count": 68,
     "metadata": {},
     "output_type": "execute_result"
    }
   ],
   "source": [
    "with open('category.txt', 'r') as open_file:\n",
    "    lines = open_file.readlines()\n",
    "clean_lines = [x.strip() for x in lines]\n",
    "cat_list = [x[3:x.find('/',3)] for x in clean_lines]\n",
    "cat_list[:5]"
   ]
  },
  {
   "cell_type": "code",
   "execution_count": 71,
   "metadata": {},
   "outputs": [
    {
     "data": {
      "text/plain": [
       "abbey                50\n",
       "airplane_cabin       50\n",
       "airport_terminal     50\n",
       "alley                50\n",
       "amphitheater         50\n",
       "                   ... \n",
       "windmill             50\n",
       "wine_cellar         100\n",
       "wrestling_ring       50\n",
       "yard                 50\n",
       "youth_hostel         50\n",
       "Length: 362, dtype: int64"
      ]
     },
     "execution_count": 71,
     "metadata": {},
     "output_type": "execute_result"
    }
   ],
   "source": [
    "import pandas as pd\n",
    "ser = pd.Series(cat_list)\n",
    "grouped = ser.groupby(ser)\n",
    "grouped.count()"
   ]
  },
  {
   "cell_type": "code",
   "execution_count": null,
   "metadata": {},
   "outputs": [],
   "source": [
    "####simple name count of group by\n",
    "my_list = []\n",
    "with open('names.txt', 'r') as open_file:\n",
    "    names = open_file.readline()\n",
    "    while names:\n",
    "        my_list.append(names)\n",
    "        names = open_file.readline()"
   ]
  },
  {
   "cell_type": "code",
   "execution_count": 34,
   "metadata": {},
   "outputs": [
    {
     "data": {
      "text/plain": [
       "['Darth',\n",
       " 'Luke',\n",
       " 'Darth',\n",
       " 'Lea',\n",
       " 'Darth',\n",
       " 'Lea',\n",
       " 'Lea',\n",
       " 'Luke',\n",
       " 'Darth',\n",
       " 'Lea',\n",
       " 'Darth',\n",
       " 'Darth',\n",
       " 'Lea',\n",
       " 'Lea',\n",
       " 'Darth',\n",
       " 'Lea',\n",
       " 'Darth',\n",
       " 'Lea',\n",
       " 'Luke',\n",
       " 'Darth',\n",
       " 'Lea',\n",
       " 'Lea',\n",
       " 'Darth',\n",
       " 'Lea',\n",
       " 'Darth',\n",
       " 'Darth',\n",
       " 'Lea',\n",
       " 'Lea',\n",
       " 'Luke',\n",
       " 'Luke',\n",
       " 'Lea',\n",
       " 'Darth',\n",
       " 'Darth',\n",
       " 'Luke',\n",
       " 'Lea',\n",
       " 'Darth',\n",
       " 'Darth',\n",
       " 'Lea',\n",
       " 'Lea',\n",
       " 'Lea',\n",
       " 'Lea',\n",
       " 'Lea',\n",
       " 'Luke',\n",
       " 'Darth',\n",
       " 'Luke',\n",
       " 'Lea',\n",
       " 'Lea',\n",
       " 'Lea',\n",
       " 'Lea',\n",
       " 'Luke',\n",
       " 'Lea',\n",
       " 'Darth',\n",
       " 'Lea',\n",
       " 'Lea',\n",
       " 'Darth',\n",
       " 'Lea',\n",
       " 'Lea',\n",
       " 'Darth',\n",
       " 'Darth',\n",
       " 'Lea',\n",
       " 'Darth',\n",
       " 'Lea',\n",
       " 'Darth',\n",
       " 'Luke',\n",
       " 'Lea',\n",
       " 'Luke',\n",
       " 'Darth',\n",
       " 'Darth',\n",
       " 'Luke',\n",
       " 'Darth',\n",
       " 'Lea',\n",
       " 'Darth',\n",
       " 'Lea',\n",
       " 'Luke',\n",
       " 'Lea',\n",
       " 'Lea',\n",
       " 'Lea',\n",
       " 'Lea',\n",
       " 'Lea',\n",
       " 'Darth',\n",
       " 'Lea',\n",
       " 'Lea',\n",
       " 'Lea',\n",
       " 'Lea',\n",
       " 'Lea',\n",
       " 'Lea',\n",
       " 'Lea',\n",
       " 'Luke',\n",
       " 'Lea',\n",
       " 'Lea',\n",
       " 'Lea',\n",
       " 'Lea',\n",
       " 'Lea',\n",
       " 'Lea',\n",
       " 'Darth',\n",
       " 'Luke',\n",
       " 'Darth',\n",
       " 'Lea',\n",
       " 'Lea',\n",
       " 'Darth']"
      ]
     },
     "execution_count": 34,
     "metadata": {},
     "output_type": "execute_result"
    }
   ],
   "source": [
    "clean_list = []\n",
    "for x in my_list:\n",
    "    clean_list.append(x.strip())\n",
    "clean_list"
   ]
  },
  {
   "cell_type": "code",
   "execution_count": 55,
   "metadata": {},
   "outputs": [
    {
     "data": {
      "text/plain": [
       "Darth    31\n",
       "Lea      54\n",
       "Luke     15\n",
       "dtype: int64"
      ]
     },
     "execution_count": 55,
     "metadata": {},
     "output_type": "execute_result"
    }
   ],
   "source": [
    "import pandas as pd\n",
    "nameseries = pd.Series(clean_list)\n",
    "uniques = nameseries.unique()\n",
    "grouped = nameseries.groupby(nameseries)\n",
    "grouped.count()"
   ]
  },
  {
   "cell_type": "markdown",
   "metadata": {},
   "source": [
    "### Decode A Web Page Two   [Link](https://www.practicepython.org/exercise/2014/07/14/19-decode-a-web-page-two.html)\n",
    "Exercise 19 (and Solution)\n",
    "Using the requests and BeautifulSoup Python libraries, print to the screen the full text of the article on this website: http://www.vanityfair.com/society/2014/06/monica-lewinsky-humiliation-culture.\n",
    "\n",
    "The article is long, so it is split up between 4 pages. Your task is to print out the text to the screen so that you can read the full article without having to click any buttons."
   ]
  },
  {
   "cell_type": "code",
   "execution_count": 10,
   "metadata": {},
   "outputs": [],
   "source": [
    "text_str = \"\"\n",
    "import requests\n",
    "from bs4 import BeautifulSoup\n",
    "url = \"https://www.vanityfair.com/style/society/2014/06/monica-lewinsky-humiliation-culture\"\n",
    "r_html = requests.get(url).text\n",
    "soup = BeautifulSoup(r_html)\n",
    "sup_titaut = soup.find_all('h1')\n",
    "title_author_desc = [x.text for x in sup_titaut]\n",
    "# That's title + author\n",
    "author_description = soup.find('div', class_=\"ContentHeaderDek-bIqFFZ dsDgjR\").text\n",
    "title_author_desc.append(author_description)\n",
    "# + description"
   ]
  },
  {
   "cell_type": "code",
   "execution_count": 14,
   "metadata": {},
   "outputs": [],
   "source": [
    "paragraphs = soup.find_all('p')\n",
    "para_list = [x.text for x in paragraphs]\n",
    "for x in range(4): #cleaning last text eg. 'Contact', 'More from vanity fair' etc.\n",
    "    para_list.pop()\n",
    "article = \"\"\n",
    "for x in para_list:\n",
    "    article += x\n",
    "str = article[:12]"
   ]
  },
  {
   "cell_type": "markdown",
   "metadata": {},
   "source": []
  },
  {
   "cell_type": "code",
   "execution_count": 15,
   "metadata": {},
   "outputs": [],
   "source": [
    "with open('article.txt', 'w') as open_file:\n",
    "    open_file.write(str)"
   ]
  },
  {
   "cell_type": "markdown",
   "metadata": {},
   "source": [
    "### Cows And Bulls   [Link](https://www.practicepython.org/exercise/2014/07/05/18-cows-and-bulls.html)\n",
    "Exercise 18 (and Solution)\n",
    "Create a program that will play the “cows and bulls” game with the user. The game works like this:\n",
    "\n",
    "Randomly generate a 4-digit number. Ask the user to guess a 4-digit number. For every digit that the user guessed correctly in the correct place, they have a “cow”. For every digit the user guessed correctly in the wrong place is a “bull.” Every time the user makes a guess, tell them how many “cows” and “bulls” they have. Once the user guesses the correct number, the game is over. Keep track of the number of guesses the user makes throughout the game and tell the user at the end.\n",
    "\n",
    "Say the number generated by the computer is 1038. An example interaction could look like this:\n",
    "\n",
    "  Welcome to the Cows and Bulls Game! \n",
    "\n",
    "  ```sql\n",
    "  Enter a number: \n",
    "  >>> 1234\n",
    "  2 cows, 0 bulls\n",
    "  >>> 1256\n",
    "  1 cow, 1 bull\n",
    "  ...\n",
    "  ```"
   ]
  },
  {
   "cell_type": "code",
   "execution_count": 4,
   "metadata": {},
   "outputs": [],
   "source": [
    "\n",
    "#NOTE you need to also count all the occurencies of numbers, where there is duplicate in guess and you only take first index of occurence.\n",
    "\n",
    "\n",
    "import random as rd\n",
    "\n",
    "def gen_rd():\n",
    "    return rd.randint(1000,9999)\n",
    "\n",
    "def game():\n",
    "    guess_counter = 0\n",
    "    print(\"Welcome to the Cows and Bulls Game!\\n Enter a number:\\n\")\n",
    "    number = (str)(gen_rd())\n",
    "    print(number)\n",
    "    while(True):\n",
    "        us_guess = input(\">>> \")\n",
    "        guess_counter += 1\n",
    "        cows = 0\n",
    "        bull = 0\n",
    "        bull_list = []\n",
    "        if us_guess == number:\n",
    "            break\n",
    "        else:\n",
    "            for x in range(len(number)):\n",
    "                if us_guess[x] == number[x]:\n",
    "                    cows += 1\n",
    "                elif us_guess[x] in number:\n",
    "                    bull_list.append(number.find(us_guess[x]))\n",
    "            bull += len(set(bull_list))\n",
    "        print(us_guess) \n",
    "        semantics(cows, bull)\n",
    "    print(f\"You guessed in {guess_counter} tries!\")\n",
    "\n",
    "def semantics(cows, bull):\n",
    "    strings = [\"cows\", \"cow\", \"bull\", \"bulls\"]\n",
    "    if cows == 1:\n",
    "        if bull == 1:\n",
    "            print(f\"{cows} {strings[1]}, {bull} {strings[2]}\")\n",
    "        else:\n",
    "            print(f\"{cows} {strings[1]}, {bull} {strings[3]}\")\n",
    "    else:\n",
    "        if bull == 1:\n",
    "            print(f\"{cows} {strings[0]}, {bull} {strings[2]}\")\n",
    "        else:\n",
    "            print(f\"{cows} {strings[0]}, {bull} {strings[3]}\")\n"
   ]
  },
  {
   "cell_type": "code",
   "execution_count": null,
   "metadata": {},
   "outputs": [],
   "source": [
    "###it's checker for loop and bull adder\n",
    "\n",
    "us_guess = \"4477\"\n",
    "number = \"1244\"\n",
    "bull_list = []\n",
    "us_num_li = [x for x in us_guess]\n",
    "us_guess_li = [x for x in number]\n",
    "\n",
    "for x in range(len(number)):\n",
    "    if us_guess[x] in number:\n",
    "        bull_list.append(number.find(us_guess[x], ))\n",
    "bull_count = len(set(bull_list))\n",
    "print(bull_count)"
   ]
  },
  {
   "cell_type": "code",
   "execution_count": null,
   "metadata": {},
   "outputs": [],
   "source": [
    "game()"
   ]
  },
  {
   "cell_type": "markdown",
   "metadata": {},
   "source": [
    "\n",
    "### Exercise 20 (and Solution) Element Search [link](https://www.practicepython.org/exercise/2014/11/11/20-element-search.html#google_vignette)\n",
    "Write a function that takes an ordered list of numbers (a list where the elements are in order from smallest to largest) and another number. The function decides whether or not the given number is inside the list and returns (then prints) an appropriate boolean.\n",
    "\n",
    "Extras:\n",
    "\n",
    "Use binary search."
   ]
  },
  {
   "cell_type": "code",
   "execution_count": null,
   "metadata": {},
   "outputs": [],
   "source": [
    "import random as rd\n",
    "\n",
    "def rand_list():\n",
    "    list = []\n",
    "    for x in range(9):\n",
    "        list.append(rd.randint(1, 100))\n",
    "    list.sort()\n",
    "    return list\n",
    "\n",
    "def search(ord_li, num):\n",
    "    print(ord_li)\n",
    "    if num in ord_li:\n",
    "        print(True)\n",
    "    else:\n",
    "        print(False)\n",
    "\n",
    "\n"
   ]
  },
  {
   "cell_type": "code",
   "execution_count": null,
   "metadata": {},
   "outputs": [],
   "source": [
    "import math as mt\n",
    "def binary_search(ord_li, num):\n",
    "    max = len(ord_li) - 1\n",
    "    min = 0\n",
    "    mid = mt.ceil(((min + max)/2))\n",
    "    while(True):\n",
    "        print(f\"max: {max}, min: {min}, mid: {mid}\")\n",
    "        if num == ord_li[mid]:\n",
    "            print(True)\n",
    "            print(f\"index: {mid}\")\n",
    "            break\n",
    "        elif (max == mid and min == mid):\n",
    "            print(\"There is no value in list\")\n",
    "            break\n",
    "        elif num > ord_li[mid]:\n",
    "            min = mid + 1\n",
    "        else:\n",
    "            max = mid - 1\n",
    "        mid = mt.ceil(((min + max)/2))\n",
    "    \n",
    "#binary_search(rand_list(), 10)\n",
    "binary_search([x for x in range(0,100)], 9)"
   ]
  },
  {
   "cell_type": "code",
   "execution_count": null,
   "metadata": {},
   "outputs": [],
   "source": [
    "search(rand_list(), 10)"
   ]
  },
  {
   "cell_type": "markdown",
   "metadata": {},
   "source": [
    "### Exercise 16 (and Solution) [link](https://www.practicepython.org/exercise/2014/05/28/16-password-generator.html)\n",
    "Note: this is a 4-chili exercise, not because it introduces a concept, but because this exercise is more like a project. Feel free to skip this and come back when you’re more ready!\n",
    "\n",
    "Write a password generator in Python. Be creative with how you generate passwords - strong passwords have a mix of lowercase letters, uppercase letters, numbers, and symbols. The passwords should be random, generating a new password every time the user asks for a new password. Include your run-time code in a main method.\n",
    "\n",
    "Extra:\n",
    "\n",
    "Ask the user how strong they want their password to be. For weak passwords, pick a word or two from a list"
   ]
  },
  {
   "cell_type": "code",
   "execution_count": null,
   "metadata": {},
   "outputs": [],
   "source": [
    "###random generators\n",
    "import random as rd\n",
    "def ra_num():\n",
    "    return (str)(rd.randint(0,9))\n",
    "def ra_letter():\n",
    "    return chr(rd.randint(97,123))\n",
    "def ra_symbol():\n",
    "    return chr(rd.randint(33,48))"
   ]
  },
  {
   "cell_type": "code",
   "execution_count": null,
   "metadata": {},
   "outputs": [],
   "source": [
    "##switching between random uper char, chars, nums and symbols\n",
    "def bucket_mix(r_num):\n",
    "    match r_num:\n",
    "        case 1:\n",
    "            return ra_letter().upper()\n",
    "        case 2:\n",
    "            return ra_letter()\n",
    "        case 3:\n",
    "            return ra_num()\n",
    "        case 4:\n",
    "            return ra_symbol()"
   ]
  },
  {
   "cell_type": "code",
   "execution_count": null,
   "metadata": {},
   "outputs": [],
   "source": [
    "\n",
    "def pass_creator(len_pass=rd.randint(10,20)):\n",
    "    passwd = \"\"\n",
    "    for x in range(len_pass):\n",
    "        passwd += bucket_mix(rd.randint(1,4))\n",
    "    return passwd"
   ]
  },
  {
   "cell_type": "code",
   "execution_count": null,
   "metadata": {},
   "outputs": [],
   "source": [
    "import time\n",
    "start = time.time()\n",
    "print(pass_creator())\n",
    "end = time.time()\n",
    "print(end - start)"
   ]
  },
  {
   "cell_type": "markdown",
   "metadata": {},
   "source": [
    "Decode A Web Page    \n",
    "### Exercise 17 (and Solution) [Link](https://www.practicepython.org/exercise/2014/06/06/17-decode-a-web-page.html)\n",
    "Note: this is a 4-chili exercise, not because it introduces a concept (although it introduces a new library), but because this exercise is more like a project. Feel free to skip this and come back when you’re more ready!\n",
    "\n",
    "Use the BeautifulSoup and requests Python packages to print out a list of all the article titles on the New York Times homepage. [NY Times](https://www.nytimes.com)"
   ]
  },
  {
   "cell_type": "code",
   "execution_count": null,
   "metadata": {},
   "outputs": [],
   "source": [
    "import requests\n",
    "from bs4 import BeautifulSoup\n",
    "url = \"https://www.nytimes.com\"\n",
    "r = requests.get(url)\n",
    "r_html = r.text\n",
    "r_html"
   ]
  },
  {
   "cell_type": "code",
   "execution_count": 12,
   "metadata": {},
   "outputs": [],
   "source": [
    "soup = BeautifulSoup(r_html)\n",
    "text = soup.find_all('p', class_=\"indicate-hover\")"
   ]
  },
  {
   "cell_type": "code",
   "execution_count": 13,
   "metadata": {},
   "outputs": [],
   "source": [
    "text = [x.text for x in text]\n",
    "import pandas as pd\n",
    "nyc = pd.DataFrame(text, columns=['Title'])"
   ]
  },
  {
   "cell_type": "code",
   "execution_count": null,
   "metadata": {},
   "outputs": [],
   "source": [
    "nyc[nyc['Title'].str.contains(\"Trump\")]"
   ]
  },
  {
   "cell_type": "markdown",
   "metadata": {},
   "source": [
    "https://www.practicepython.org/exercise/2014/03/12/06-string-lists.html\n",
    "6. Ask the user for a string and print out whether this string is a palindrome or not. (A palindrome is a string that reads the same forwards and backwards.)"
   ]
  },
  {
   "cell_type": "code",
   "execution_count": null,
   "metadata": {},
   "outputs": [],
   "source": [
    "word = input(\"give me word: \")\n",
    "is_palindrom = True\n",
    "for i in range(int(len(word)/2)):\n",
    "    if word[i] != word[-(i+1)]:\n",
    "        is_palindrom = False\n",
    "        break\n",
    "print(\"Your word:\" , word, end= \" \")\n",
    "if is_palindrom: print(\"is a palindrome\")\n",
    "else: print(\"is not a palindrome\")\n"
   ]
  },
  {
   "cell_type": "markdown",
   "metadata": {},
   "source": [
    "https://www.practicepython.org/exercise/2014/03/19/07-list-comprehensions.html\n",
    "Exercise 7 (and Solution)\n",
    "Let’s say I give you a list saved in a variable: a = [1, 4, 9, 16, 25, 36, 49, 64, 81, 100]. Write one line of Python that takes this list a and makes a new list that has only the even elements of this list in it."
   ]
  },
  {
   "cell_type": "code",
   "execution_count": null,
   "metadata": {},
   "outputs": [],
   "source": [
    "a = [1, 4, 9, 16, 25, 36, 49, 64, 81, 100]\n",
    "new_list = [x for x in a if x % 2 == 0]\n",
    "print(new_list)"
   ]
  },
  {
   "cell_type": "markdown",
   "metadata": {},
   "source": [
    "Make a two-player Rock-Paper-Scissors game. (Hint: Ask for player plays (using input), compare them, print out a message of congratulations to the winner, and ask if the players want to start a new game)\n",
    "\n",
    "Remember the rules:\n",
    "\n",
    "Rock beats scissors\n",
    "Scissors beats paper\n",
    "Paper beats rock"
   ]
  },
  {
   "cell_type": "code",
   "execution_count": null,
   "metadata": {},
   "outputs": [],
   "source": [
    "opt = \"y\"\n",
    "count = 0\n",
    "while(opt == \"y\"):\n",
    "    p1 = input(\"Player 1 give me your play: r/p/s\")\n",
    "    p2 = input(\"Player 2 give me your play: r/p/s\")\n",
    "    count += 1\n",
    "    print(\"Game \", count, end= \": \" )\n",
    "    if p1 == \"r\":\n",
    "        if p2 == \"r\":\n",
    "            print(\"Tie\")\n",
    "        elif p2 == \"p\":\n",
    "            print(\"Player 2 won\")\n",
    "        else:\n",
    "            print(\"Player 1 won\")\n",
    "    elif p1 == \"p\":\n",
    "        if  p2 == \"r\":\n",
    "            print(\"Player 1 won\")\n",
    "        elif p2 == \"p\":\n",
    "            print(\"Tie\")\n",
    "        else:\n",
    "            print(\"Player 2 won\")\n",
    "    elif p1 == \"s\":\n",
    "        if  p2 == \"r\":\n",
    "            print(\"Player 2 won\")\n",
    "        elif p2 == \"p\":\n",
    "            print(\"Player 1 won\")\n",
    "        else:\n",
    "            print(\"Tie\")\n",
    "    opt = input(\"Do you want to continue [y] - yes, [anything else] - no\")\n",
    "\n",
    "\n",
    "\n",
    "    \n"
   ]
  },
  {
   "cell_type": "markdown",
   "metadata": {},
   "source": [
    "Exercise 9 (and Solution)\n",
    "Generate a random number between 1 and 9 (including 1 and 9). Ask the user to guess the number, then tell them whether they guessed too low, too high, or exactly right. (Hint: remember to use the user input lessons from the very first exercise)\n",
    "\n",
    "Extras:\n",
    "\n",
    "Keep the game going until the user types “exit”\n",
    "Keep track of how many guesses the user has taken, and when the game ends, print this out."
   ]
  },
  {
   "cell_type": "code",
   "execution_count": null,
   "metadata": {},
   "outputs": [],
   "source": [
    "import random as r\n",
    "guesses = 0\n",
    "while(True):\n",
    "    rd_num = r.randint(1,9)\n",
    "    guess = (int)(input(\"Guess a number: \"))\n",
    "    print(rd_num)\n",
    "    if rd_num == guess:\n",
    "        print(\"You're right\")\n",
    "    elif rd_num > guess:\n",
    "        print(\"Too low\")\n",
    "    else:\n",
    "        print(\"Too high\")\n",
    "    guesses += 1\n",
    "    if input(\"Do you want to continue?\") == \"exit\":\n",
    "        break\n",
    "print(\"Games played: \", guesses)"
   ]
  },
  {
   "cell_type": "markdown",
   "metadata": {},
   "source": [
    "#### Exercise 10\n",
    "\n",
    "Take two lists, say for example these two:\n",
    "\n",
    "\ta = [1, 1, 2, 3, 5, 8, 13, 21, 34, 55, 89]\n",
    "\tb = [1, 2, 3, 4, 5, 6, 7, 8, 9, 10, 11, 12, 13]\n",
    "and write a program that returns a list that contains only the elements that are common between the lists (without duplicates). Make sure your program works on two lists of different sizes. Write this in one line of Python using at least one list comprehension. (Hint: Remember list comprehensions from Exercise 7).\n",
    "\n",
    "The original formulation of this exercise said to write the solution using one line of Python, but a few readers pointed out that this was impossible to do without using sets that I had not yet discussed on the blog, so you can either choose to use the original directive and read about the set command in Python 3.3, or try to implement this on your own and use at least one list comprehension in the solution.\n",
    "\n",
    "Extra:\n",
    "\n",
    "Randomly generate two lists to test this"
   ]
  },
  {
   "cell_type": "code",
   "execution_count": null,
   "metadata": {},
   "outputs": [],
   "source": [
    "import random as rd\n",
    "len_a = rd.randint(5,12)\n",
    "len_b = rd.randint(5,12)\n",
    "a = [rd.randint(1,20) for x in range(len_a)]\n",
    "b = [rd.randint(1,20) for x in range(len_b)]\n",
    "print(a)\n",
    "print(b)\n",
    "list(set(a) & set(b))"
   ]
  },
  {
   "cell_type": "markdown",
   "metadata": {},
   "source": [
    "### Exercise 11 (and Solution)\n",
    "[link](https://www.practicepython.org/exercise/2014/04/16/11-check-primality-functions.html)\n",
    "\n",
    "Ask the user for a number and determine whether the number is prime or not. (For those who have forgotten, a prime number is a number that has no divisors.). You can (and should!) use your answer to Exercise 4 to help you. Take this opportunity to practice using functions, described below."
   ]
  },
  {
   "cell_type": "code",
   "execution_count": 64,
   "metadata": {},
   "outputs": [],
   "source": [
    "def give_number(text_helper=\"give number: \"):\n",
    "    return (int)(input(text_helper))\n",
    "def is_prime(num):\n",
    "    prime = True\n",
    "    if num == 4:\n",
    "        print(\"{} - It's not prime number\".format(num))\n",
    "    else:\n",
    "        for x in range(2,(num//2)):\n",
    "            if num % x == 0:\n",
    "                prime = False\n",
    "                break\n",
    "        if prime:\n",
    "            print(\"{} - It's prime number\".format(num))\n",
    "        else:\n",
    "            print(\"{} - It's not prime number\".format(num))"
   ]
  },
  {
   "cell_type": "code",
   "execution_count": null,
   "metadata": {},
   "outputs": [],
   "source": [
    "is_prime(give_number(\"Give me number to check prime\"))"
   ]
  },
  {
   "cell_type": "markdown",
   "metadata": {},
   "source": [
    "### Exercise 12 (and Solution) [link](https://www.practicepython.org/exercise/2014/04/25/12-list-ends.html)\n",
    "Write a program that takes a list of numbers (for example, a = [5, 10, 15, 20, 25]) and makes a new list of only the first and last elements of the given list. For practice, write this code inside a function."
   ]
  },
  {
   "cell_type": "code",
   "execution_count": 97,
   "metadata": {},
   "outputs": [],
   "source": [
    "import random as rd\n",
    "\n",
    "def gen_rd_list(len_list=\"Give me len of list: \"):\n",
    "    len = (int)(input(len_list))\n",
    "    a = [(rd.randint(1,20)) for x in range(len)]\n",
    "    print(a)\n",
    "    return a\n",
    "\n",
    "def new_list(r_list):\n",
    "    return [r_list[0], r_list[len(r_list) - 1]]"
   ]
  },
  {
   "cell_type": "code",
   "execution_count": null,
   "metadata": {},
   "outputs": [],
   "source": [
    "print(new_list(gen_rd_list()))"
   ]
  },
  {
   "cell_type": "markdown",
   "metadata": {},
   "source": [
    "### Exercise 13 (and Solution) [Link](https://www.practicepython.org/exercise/2014/04/30/13-fibonacci.html)\n",
    "Write a program that asks the user how many Fibonnaci numbers to generate and then generates them. Take this opportunity to think about how you can use functions. Make sure to ask the user to enter the number of numbers in the sequence to generate.(Hint: The Fibonnaci seqence is a sequence of numbers where the next number in the sequence is the sum of the previous two numbers in the sequence. The sequence looks like this: 1, 1, 2, 3, 5, 8, 13, …)"
   ]
  },
  {
   "cell_type": "code",
   "execution_count": null,
   "metadata": {},
   "outputs": [],
   "source": [
    "def fib_len(user_num=\"Give me number for Fibonnaci sequence: \"):\n",
    "    return (int)(input(user_num))\n",
    "\n",
    "def fib_g_list(len):\n",
    "    print(\"Fibonnaci sequence for {} numbers\".format(len))\n",
    "    a = 1\n",
    "    b = 1\n",
    "    if len == 1:\n",
    "        return [a]\n",
    "    elif len == 2:\n",
    "        return [a, b]\n",
    "    else:\n",
    "        temp = [a, b]\n",
    "        for x in range(len - 2):\n",
    "            c = a + b\n",
    "            temp.append(c)\n",
    "            a = b\n",
    "            b = c\n",
    "        return temp\n",
    "\n",
    "fib_g_list(fib_len())\n"
   ]
  },
  {
   "cell_type": "markdown",
   "metadata": {},
   "source": [
    "### Exercise 14 (and Solution) [Link](https://www.practicepython.org/exercise/2014/05/15/14-list-remove-duplicates.html)\n",
    "Write a program (function!) that takes a list and returns a new list that contains all the elements of the first list minus all the duplicates.\n",
    "\n",
    "Extras:\n",
    "\n",
    "Write two different functions to do this - one using a loop and constructing a list, and another using sets.\n",
    "Go back and do Exercise 5 using sets, and write the solution for that in a different function."
   ]
  },
  {
   "cell_type": "code",
   "execution_count": null,
   "metadata": {},
   "outputs": [],
   "source": [
    "#1 using loop\n",
    "import random as rd\n",
    "def genr_list(len):\n",
    "    a = [rd.randint(1,5) for x in range(len)]\n",
    "    print(a)\n",
    "    return a\n",
    "\n",
    "def dup_removal(a_list):\n",
    "    new_list = [a_list[0]]\n",
    "    for x in a_list:\n",
    "        flag = False\n",
    "        for y in new_list:\n",
    "            if x == y:\n",
    "                flag = True\n",
    "                break\n",
    "        if not flag:\n",
    "            new_list.append(x)\n",
    "    print(new_list)"
   ]
  },
  {
   "cell_type": "code",
   "execution_count": null,
   "metadata": {},
   "outputs": [],
   "source": [
    "dup_removal(genr_list(10))"
   ]
  },
  {
   "cell_type": "code",
   "execution_count": 45,
   "metadata": {},
   "outputs": [],
   "source": [
    "#2 using sets\n",
    "import random as rd\n",
    "def genr_list(len: int):\n",
    "    a = [rd.randint(1,5) for x in range(len)]\n",
    "    print(a)\n",
    "    return a\n",
    "\n",
    "def dup_removal_sets(a_list):\n",
    "    return [x for x in (set(a_list) & set(a_list))]"
   ]
  },
  {
   "cell_type": "code",
   "execution_count": null,
   "metadata": {},
   "outputs": [],
   "source": [
    "dup_removal_sets(genr_list(10))"
   ]
  },
  {
   "cell_type": "markdown",
   "metadata": {},
   "source": [
    "### Exercise 15 (and Solution) [Link](https://www.practicepython.org/exercise/2014/05/21/15-reverse-word-order.html)\n",
    "\n",
    "Write a program (using functions!) that asks the user for a long string containing multiple words. Print back to the user the same string, except with the words in backwards order. For example, say I type the string:\n",
    "\n",
    "  \"My name is Michele\"\n",
    "Then I would see the string:\n",
    "\n",
    "  \"Michele is name My\"\n",
    "shown back to me."
   ]
  },
  {
   "cell_type": "code",
   "execution_count": 49,
   "metadata": {},
   "outputs": [],
   "source": [
    "def get_string(mess=\"Give me your multi-word string: \"):\n",
    "    return input(mess)\n",
    "\n",
    "def string_border(user_str: str):\n",
    "    print(user_str)\n",
    "    str_list = user_str.split()\n",
    "    bor_list = [str_list[len(str_list)-x-1] for x in range(len(str_list))]\n",
    "    return \" \".join(bor_list)"
   ]
  },
  {
   "cell_type": "code",
   "execution_count": null,
   "metadata": {},
   "outputs": [],
   "source": [
    "string_border(get_string())"
   ]
  }
 ],
 "metadata": {
  "kernelspec": {
   "display_name": "Python 3",
   "language": "python",
   "name": "python3"
  },
  "language_info": {
   "codemirror_mode": {
    "name": "ipython",
    "version": 3
   },
   "file_extension": ".py",
   "mimetype": "text/x-python",
   "name": "python",
   "nbconvert_exporter": "python",
   "pygments_lexer": "ipython3",
   "version": "3.13.0"
  }
 },
 "nbformat": 4,
 "nbformat_minor": 2
}
